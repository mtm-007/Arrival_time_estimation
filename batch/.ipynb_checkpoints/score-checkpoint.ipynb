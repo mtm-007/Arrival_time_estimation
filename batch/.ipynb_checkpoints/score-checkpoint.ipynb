{
 "cells": [
  {
   "cell_type": "code",
   "execution_count": 1,
   "id": "23d57226-74d3-4e33-8de9-b3c9833fa718",
   "metadata": {},
   "outputs": [],
   "source": [
    "import pandas as pd\n",
    "import numpy as np\n",
    "import pickle\n",
    "import pyarrow\n",
    "import mlflow\n",
    "import os\n",
    "import uuid\n",
    "\n",
    "from sklearn.feature_extraction import DictVectorizer\n",
    "from sklearn.ensemble import RandomForestRegressor\n",
    "from sklearn.metrics import mean_squared_error\n",
    "from sklearn.metrics import root_mean_squared_error"
   ]
  },
  {
   "cell_type": "code",
   "execution_count": 2,
   "id": "5bf355f3-2b49-441d-8ee7-3e1e1fc0ee2c",
   "metadata": {},
   "outputs": [],
   "source": [
    "year = 2023\n",
    "month = 3\n",
    "taxi_type = 'green'\n",
    "\n",
    "output_file =f'output/{taxi_type}/{year:04d}-{month:02d}.parquet'\n",
    "input_file = f'https://d37ci6vzurychx.cloudfront.net/trip-data/{taxi_type}_tripdata_{year:04d}-{month:02d}.parquet'\n",
    "\n",
    "RUN_ID = os.getenv('RUN_ID', 'd4c48152bad344bd9bb991a7e7608484')\n",
    "gcp_backet = \"mlflow-backend-storage-models\"\n",
    "logged_model = f\"gs://{gcp_backet}/1/{RUN_ID}/artifacts/model\""
   ]
  },
  {
   "cell_type": "code",
   "execution_count": 3,
   "id": "457ff65d-817e-4aef-b408-ec801ecdf3ce",
   "metadata": {},
   "outputs": [],
   "source": [
    "def generate_uuid(n):\n",
    "    '''\n",
    "        adding unique identifiers but mostly they are already in the data\n",
    "    '''\n",
    "    ride_id = []\n",
    "    for i in range(n):\n",
    "        ride_id.append(str(uuid.uuid4()))\n",
    "    return ride_id\n",
    "    \n",
    "def read_dataframe(filename:str):\n",
    "    df = pd.read_parquet(filename)\n",
    "    \n",
    "    df['duration'] = df.lpep_dropoff_datetime - df.lpep_pickup_datetime\n",
    "    df['duration'] = df.duration.dt.total_seconds()/60\n",
    "    #df['duration'] = df['duration'].apply(lambda td: td.total_seconds()/60)\n",
    "    df = df[(df.duration > 1) & (df.duration <=60)]\n",
    "    \n",
    "    df['ride_id'] = generate_uuid(len(df))\n",
    "    return df\n",
    "\n",
    "def prepare_dictionaries(df: pd.DataFrame):\n",
    "    categorical = ['PULocationID','DOLocationID']\n",
    "    df[categorical]= df[categorical].astype(str)\n",
    "    \n",
    "    df['PU_DO'] = df['PULocationID'].astype(str) + '_' + df['DOLocationID'].astype(str)\n",
    "    categorical = ['PU_DO']\n",
    "    numerical = ['trip_distance']\n",
    "    dicts = df[categorical + numerical].to_dict(orient='records')\n",
    "    return dicts"
   ]
  },
  {
   "cell_type": "code",
   "execution_count": 4,
   "id": "c8ea733b-c02d-47d9-b0ed-90edf123295d",
   "metadata": {},
   "outputs": [],
   "source": [
    "def load_model(RUN_ID):\n",
    "    logged_model = f\"gs://{gcp_backet}/1/{RUN_ID}/artifacts/model\"\n",
    "    model = mlflow.pyfunc.load_model(logged_model)\n",
    "    return model\n",
    "    \n",
    "def apply_model(input_file, run_id, output_file):\n",
    "    df = read_dataframe(input_file)\n",
    "    dict = prepare_dictionaries(df)\n",
    "    \n",
    "    model = load_model(run_id)\n",
    "    y_pred = model.predict(dict)\n",
    "    \n",
    "    df_results = pd.DataFrame()\n",
    "    #add meta data for results dataframe \n",
    "    df_results['ride_id'] = df['ride_id']\n",
    "    df_results['lpep_pickup_datetime'] = df['lpep_pickup_datetime']\n",
    "    df_results['PULocationID'] = df['PULocationID']\n",
    "    df_results['DOLocationID'] = df['DOLocationID']\n",
    "    df_results['actual_duration'] = df['duration']\n",
    "    df_results['predicted_duration'] = y_pred\n",
    "    df_results['diff'] = df_results['actual_duration'] - df_results['predicted_duration']\n",
    "    df_results['model_version'] = RUN_ID\n",
    "    df_results.to_parquet(output_file, index=False)"
   ]
  },
  {
   "cell_type": "code",
   "execution_count": 5,
   "id": "0e367799-930d-4e67-8600-d45cf245fe69",
   "metadata": {},
   "outputs": [
    {
     "data": {
      "application/vnd.jupyter.widget-view+json": {
       "model_id": "beeb7e61005847598a649b0fc05e1d74",
       "version_major": 2,
       "version_minor": 0
      },
      "text/plain": [
       "Downloading artifacts:   0%|          | 0/5 [00:00<?, ?it/s]"
      ]
     },
     "metadata": {},
     "output_type": "display_data"
    },
    {
     "name": "stderr",
     "output_type": "stream",
     "text": [
      "2024/11/26 02:30:24 WARNING mlflow.utils.requirements_utils: Detected one or more mismatches between the model's dependencies and the current Python environment:\n",
      " - mlflow (current: 2.18.0, required: mlflow==2.16.2)\n",
      "To fix the mismatches, call `mlflow.pyfunc.get_model_dependencies(model_uri)` to fetch the model's environment and install dependencies using the resulting environment file.\n"
     ]
    }
   ],
   "source": [
    "apply_model(input_file=input_file, run_id=RUN_ID, output_file=output_file)"
   ]
  },
  {
   "cell_type": "code",
   "execution_count": null,
   "id": "ed570657-0324-4068-9f94-0d9650d96f4d",
   "metadata": {},
   "outputs": [],
   "source": []
  }
 ],
 "metadata": {
  "kernelspec": {
   "display_name": "Python 3 (ipykernel)",
   "language": "python",
   "name": "python3"
  },
  "language_info": {
   "codemirror_mode": {
    "name": "ipython",
    "version": 3
   },
   "file_extension": ".py",
   "mimetype": "text/x-python",
   "name": "python",
   "nbconvert_exporter": "python",
   "pygments_lexer": "ipython3",
   "version": "3.12.2"
  }
 },
 "nbformat": 4,
 "nbformat_minor": 5
}
