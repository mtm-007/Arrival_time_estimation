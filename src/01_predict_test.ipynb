{
 "cells": [
  {
   "cell_type": "code",
   "execution_count": 1,
   "id": "e2b8341e-d21f-490f-9602-33c7a1d9b598",
   "metadata": {},
   "outputs": [
    {
     "name": "stdout",
     "output_type": "stream",
     "text": [
      "{'Prediction result': 23.622099945072648}\n"
     ]
    }
   ],
   "source": [
    "import requests\n",
    "\n",
    "\n",
    "url = 'http://0.0.0.0:9696/predict'\n",
    "\n",
    "inference_input = {\n",
    "    \"PULocationID\": 210,\n",
    "    \"DOLocationID\": 5,\n",
    "    \"PUDO\": '210_5',\n",
    "    \"trip_distance\": 6.98\n",
    "}\n",
    "\n",
    "response = requests.post(url, json=inference_input).json()\n",
    "\n",
    "print(response)\n",
    "\n"
   ]
  },
  {
   "cell_type": "code",
   "execution_count": null,
   "id": "0108dd10-cc34-4c0e-afc1-b5b832570816",
   "metadata": {},
   "outputs": [],
   "source": []
  }
 ],
 "metadata": {
  "kernelspec": {
   "display_name": "Python 3 (ipykernel)",
   "language": "python",
   "name": "python3"
  },
  "language_info": {
   "codemirror_mode": {
    "name": "ipython",
    "version": 3
   },
   "file_extension": ".py",
   "mimetype": "text/x-python",
   "name": "python",
   "nbconvert_exporter": "python",
   "pygments_lexer": "ipython3",
   "version": "3.12.2"
  }
 },
 "nbformat": 4,
 "nbformat_minor": 5
}
