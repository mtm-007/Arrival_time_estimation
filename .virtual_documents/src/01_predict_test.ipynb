import requests


url = 'http://0.0.0.0:9696/predict'

inference_input = {
    "PULocationID": 210,
    "DOLocationID": 5,
    "PUDO": '210_5',
    "trip_distance": 6.98
}

response = requests.post(url, json=inference_input).json()

print(response)





