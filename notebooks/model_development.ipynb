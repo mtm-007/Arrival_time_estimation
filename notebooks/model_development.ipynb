{
 "cells": [
  {
   "cell_type": "code",
   "execution_count": 1,
   "id": "7171e806-16ea-43de-8733-ed48830ebe96",
   "metadata": {},
   "outputs": [],
   "source": [
    "import pandas as pd\n",
    "import numpy as np\n",
    "import seaborn as sns\n",
    "import matplotlib.pyplot as plt\n",
    "from sklearn.feature_extraction import DictVectorizer\n",
    "from sklearn.linear_model import LinearRegression"
   ]
  },
  {
   "cell_type": "code",
   "execution_count": 2,
   "id": "09a6cb8f-4d26-4efa-ab18-30313a602da3",
   "metadata": {},
   "outputs": [],
   "source": [
    "import pickle"
   ]
  },
  {
   "cell_type": "code",
   "execution_count": 3,
   "id": "6e2dd8b0-eb4f-40bd-8bc4-cecab48ec857",
   "metadata": {},
   "outputs": [],
   "source": [
    "from sklearn.linear_model import Lasso\n",
    "from sklearn.linear_model import Ridge\n",
    "from sklearn.metrics import mean_squared_error"
   ]
  },
  {
   "cell_type": "markdown",
   "id": "59b02dc9-b5dc-43cd-9e01-5a6becb31730",
   "metadata": {},
   "source": [
    "### data summary\n",
    "- There are 68211 total records, after filtering by duration > 1 & <=60 there will be 65924 records, which is 96% of the data"
   ]
  },
  {
   "cell_type": "code",
   "execution_count": 10,
   "id": "6c6f918d-69eb-46be-8b38-d5d4005be88b",
   "metadata": {},
   "outputs": [],
   "source": [
    "def read_and_preprocess(filename):\n",
    "    df = pd.read_parquet(filename)\n",
    "    \n",
    "    df.lpep_pickup_datetime = pd.to_datetime(df.lpep_pickup_datetime)\n",
    "    df.lpep_dropoff_datetime = pd.to_datetime(df.lpep_dropoff_datetime)\n",
    "    \n",
    "    df['duration'] = df.lpep_dropoff_datetime - df.lpep_pickup_datetime\n",
    "    \n",
    "    df['duration'] = df['duration'].apply(lambda td: td.total_seconds()/60)\n",
    "    df['PU_DO'] = df['PULocationID'].astype(str) + '_' + df['DOLocationID'].astype(str)\n",
    "    \n",
    "    #categorical = ['PU_DO']#'DOLocationID',]\n",
    "    categorical = ['PULocationID','DOLocationID']#'DOLocationID',]\n",
    "    \n",
    "    df[categorical]= df[categorical].astype(str)\n",
    "    df = df[(df.duration > 1) & (df.duration <=60)]\n",
    "    return df"
   ]
  },
  {
   "cell_type": "code",
   "execution_count": 11,
   "id": "ec1d57e6-46be-45ee-a66d-f1b9e6028351",
   "metadata": {},
   "outputs": [],
   "source": [
    "df_train = read_and_preprocess('../data/green_tripdata_2023-01.parquet')\n",
    "df_valid = read_and_preprocess('../data/green_tripdata_2023-02.parquet')"
   ]
  },
  {
   "cell_type": "code",
   "execution_count": 12,
   "id": "8f9aa6be-5508-44d5-827c-29a7246a3a78",
   "metadata": {},
   "outputs": [
    {
     "data": {
      "text/plain": [
       "(65924, 62547)"
      ]
     },
     "execution_count": 12,
     "metadata": {},
     "output_type": "execute_result"
    }
   ],
   "source": [
    "len(df_train),len(df_valid)"
   ]
  },
  {
   "cell_type": "markdown",
   "id": "f618d875-b67f-47a1-a1d6-2dc99d5dc529",
   "metadata": {},
   "source": [
    "### Training pipeline"
   ]
  },
  {
   "cell_type": "code",
   "execution_count": 13,
   "id": "7c63d282-bae6-4fc9-9eb8-609a0b8dd5b5",
   "metadata": {},
   "outputs": [],
   "source": [
    "dv = DictVectorizer()\n",
    "\n",
    "train_dict = df_train[categorical + numerical].to_dict(orient='records')\n",
    "X_train = dv.fit_transform(train_dict)\n",
    "\n",
    "val_dict = df_valid[categorical + numerical].to_dict(orient='records')\n",
    "x_val = dv.transform(val_dict)"
   ]
  },
  {
   "cell_type": "code",
   "execution_count": 14,
   "id": "453c407f-40ad-4910-8054-b3b786aedf09",
   "metadata": {},
   "outputs": [],
   "source": [
    "\n",
    "target = 'duration'\n",
    "y_train = df_train[target].values\n",
    "y_valid = df_valid[target].values"
   ]
  },
  {
   "cell_type": "code",
   "execution_count": 15,
   "id": "1bf28d0e-d2d9-48a9-8750-c82dbe7fa5bc",
   "metadata": {},
   "outputs": [
    {
     "data": {
      "text/plain": [
       "7.3517729073485345"
      ]
     },
     "execution_count": 15,
     "metadata": {},
     "output_type": "execute_result"
    }
   ],
   "source": [
    "\n",
    "#training\n",
    "Lr = LinearRegression()\n",
    "Lr.fit(X_train,y_train)\n",
    "#prediction\n",
    "y_pred = Lr.predict(x_val)\n",
    "#evaluation\n",
    "mean_squared_error(y_valid,y_pred, squared=False)"
   ]
  },
  {
   "cell_type": "markdown",
   "id": "5c05fc5d-b8ff-460d-8a20-792aa3d0bf0c",
   "metadata": {},
   "source": [
    "##### dump model to pickle"
   ]
  },
  {
   "cell_type": "code",
   "execution_count": 18,
   "id": "a202b5eb-a18f-450f-8f3c-00474e91ac90",
   "metadata": {},
   "outputs": [],
   "source": [
    "with open('../models/lin_Reg.bin', 'wb') as f_out:\n",
    "    pickle.dump((dv,Lr), f_out)"
   ]
  },
  {
   "cell_type": "markdown",
   "id": "882d5cff-7ba5-45ea-a46e-acfba2f87cab",
   "metadata": {},
   "source": [
    "## with Lasso Reg"
   ]
  },
  {
   "cell_type": "code",
   "execution_count": 19,
   "id": "32d904a0-9921-42e9-a2e4-465c17b1fc33",
   "metadata": {},
   "outputs": [
    {
     "data": {
      "text/plain": [
       "7.7361261061027395"
      ]
     },
     "execution_count": 19,
     "metadata": {},
     "output_type": "execute_result"
    }
   ],
   "source": [
    "#With Lasso\n",
    "lr = Lasso(alpha=0.01)\n",
    "lr.fit(X_train,y_train)\n",
    "#prediction\n",
    "y_pred = lr.predict(x_val)\n",
    "#evaluation\n",
    "mean_squared_error(y_valid,y_pred, squared=False)"
   ]
  },
  {
   "cell_type": "code",
   "execution_count": 20,
   "id": "9d527773-c008-4d5a-8cb1-8527b4d730b5",
   "metadata": {},
   "outputs": [
    {
     "data": {
      "text/plain": [
       "7.348918521717934"
      ]
     },
     "execution_count": 20,
     "metadata": {},
     "output_type": "execute_result"
    }
   ],
   "source": [
    "#With Ridge\n",
    "LR = Ridge()\n",
    "LR.fit(X_train,y_train)\n",
    "#prediction\n",
    "y_pred = LR.predict(x_val)\n",
    "#evaluation\n",
    "mean_squared_error(y_valid,y_pred, squared=False)"
   ]
  },
  {
   "cell_type": "code",
   "execution_count": null,
   "id": "33810f07-ec9b-4a88-a768-9ef3e6831db1",
   "metadata": {},
   "outputs": [],
   "source": []
  }
 ],
 "metadata": {
  "kernelspec": {
   "display_name": "Python 3",
   "language": "python",
   "name": "python3"
  },
  "language_info": {
   "codemirror_mode": {
    "name": "ipython",
    "version": 3
   },
   "file_extension": ".py",
   "mimetype": "text/x-python",
   "name": "python",
   "nbconvert_exporter": "python",
   "pygments_lexer": "ipython3",
   "version": "3.10.10"
  }
 },
 "nbformat": 4,
 "nbformat_minor": 5
}
