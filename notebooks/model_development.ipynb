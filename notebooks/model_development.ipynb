{
 "cells": [
  {
   "cell_type": "code",
   "execution_count": 1,
   "id": "7171e806-16ea-43de-8733-ed48830ebe96",
   "metadata": {},
   "outputs": [],
   "source": [
    "import pandas as pd\n",
    "import numpy as np\n",
    "import seaborn as sns\n",
    "import matplotlib.pyplot as plt\n",
    "from sklearn.feature_extraction import DictVectorizer\n",
    "from sklearn.linear_model import LinearRegression"
   ]
  },
  {
   "cell_type": "code",
   "execution_count": 2,
   "id": "09a6cb8f-4d26-4efa-ab18-30313a602da3",
   "metadata": {},
   "outputs": [],
   "source": [
    "import pickle\n",
    "import pyarrow"
   ]
  },
  {
   "cell_type": "code",
   "execution_count": 3,
   "id": "6e2dd8b0-eb4f-40bd-8bc4-cecab48ec857",
   "metadata": {},
   "outputs": [],
   "source": [
    "from sklearn.linear_model import Lasso\n",
    "from sklearn.linear_model import Ridge\n",
    "from sklearn.metrics import mean_squared_error"
   ]
  },
  {
   "cell_type": "markdown",
   "id": "59b02dc9-b5dc-43cd-9e01-5a6becb31730",
   "metadata": {},
   "source": [
    "### data summary\n",
    "- There are 68211 total records, after filtering by duration > 1 & <=60 there will be 65924 records, which is 96% of the data"
   ]
  },
  {
   "cell_type": "code",
   "execution_count": 4,
   "id": "6c6f918d-69eb-46be-8b38-d5d4005be88b",
   "metadata": {},
   "outputs": [],
   "source": [
    "def read_and_preprocess(filename):\n",
    "    df = pd.read_parquet(filename)\n",
    "    \n",
    "    df.tpep_pickup_datetime = pd.to_datetime(df.tpep_pickup_datetime)\n",
    "    df.tpep_dropoff_datetime = pd.to_datetime(df.tpep_dropoff_datetime)\n",
    "    \n",
    "    df['duration'] = df.tpep_dropoff_datetime - df.tpep_pickup_datetime\n",
    "    \n",
    "    df['duration'] = df['duration'].apply(lambda td: td.total_seconds()/60)\n",
    "    df['PU_DO'] = df['PULocationID'].astype(str) + '_' + df['DOLocationID'].astype(str)\n",
    "    \n",
    "    categorical = ['PU_DO']#'DOLocationID',]\n",
    "    #categorical = ['PULocationID','DOLocationID']#'DOLocationID',]\n",
    "    numerical = ['trip_distance']\n",
    "    \n",
    "    df[categorical]= df[categorical].astype(str)\n",
    "    df = df[(df.duration > 1) & (df.duration <=60)]\n",
    "    return df"
   ]
  },
  {
   "cell_type": "code",
   "execution_count": 5,
   "id": "6fbb2744-c6b9-4399-82e1-703ec9ce65f0",
   "metadata": {},
   "outputs": [],
   "source": [
    "def read_and_preprocess_green_taxi(filename):\n",
    "    df = pd.read_parquet(filename)\n",
    "    \n",
    "    df.lpep_pickup_datetime = pd.to_datetime(df.lpep_pickup_datetime)\n",
    "    df.lpep_dropoff_datetime = pd.to_datetime(df.lpep_dropoff_datetime)\n",
    "    \n",
    "    df['duration'] = df.lpep_dropoff_datetime - df.lpep_pickup_datetime\n",
    "    \n",
    "    df['duration'] = df['duration'].apply(lambda td: td.total_seconds()/60)\n",
    "    df['PU_DO'] = df['PULocationID'].astype(str) + '_' + df['DOLocationID'].astype(str)\n",
    "    \n",
    "    categorical = ['PU_DO']#'DOLocationID',]\n",
    "    #categorical = ['PULocationID','DOLocationID']#'DOLocationID',]\n",
    "    numerical = ['trip_distance']\n",
    "    \n",
    "    df[categorical]= df[categorical].astype(str)\n",
    "    df = df[(df.duration > 1) & (df.duration <=60)]\n",
    "    return df\n",
    "\n",
    "\n",
    "df_train = read_and_preprocess_green_taxi('../data/green_tripdata_2023-01.parquet')\n",
    "df_valid = read_and_preprocess_green_taxi('../data/green_tripdata_2023-02.parquet')"
   ]
  },
  {
   "cell_type": "code",
   "execution_count": 6,
   "id": "ec1d57e6-46be-45ee-a66d-f1b9e6028351",
   "metadata": {},
   "outputs": [],
   "source": [
    "# df_train = read_and_preprocess('../data/yellow_tripdata_2023-01.parquet')\n",
    "# df_valid = read_and_preprocess('../data/yellow_tripdata_2023-02.parquet')"
   ]
  },
  {
   "cell_type": "code",
   "execution_count": 7,
   "id": "8f9aa6be-5508-44d5-827c-29a7246a3a78",
   "metadata": {},
   "outputs": [
    {
     "data": {
      "text/plain": [
       "(65924, 62547)"
      ]
     },
     "execution_count": 7,
     "metadata": {},
     "output_type": "execute_result"
    }
   ],
   "source": [
    "len(df_train),len(df_valid)"
   ]
  },
  {
   "cell_type": "code",
   "execution_count": 30,
   "id": "6b73abae-92cb-4047-9e80-d241d03d8b8c",
   "metadata": {},
   "outputs": [
    {
     "data": {
      "text/plain": [
       "dtype('O')"
      ]
     },
     "execution_count": 30,
     "metadata": {},
     "output_type": "execute_result"
    }
   ],
   "source": [
    "df_train['PU_DO'].dtype"
   ]
  },
  {
   "cell_type": "markdown",
   "id": "f618d875-b67f-47a1-a1d6-2dc99d5dc529",
   "metadata": {},
   "source": [
    "### Training pipeline"
   ]
  },
  {
   "cell_type": "code",
   "execution_count": 23,
   "id": "7c63d282-bae6-4fc9-9eb8-609a0b8dd5b5",
   "metadata": {},
   "outputs": [],
   "source": [
    "dv = DictVectorizer()\n",
    "\n",
    "categorical = ['PULocationID','DOLocationID','PU_DO']\n",
    "numerical = ['trip_distance']\n",
    "\n",
    "train_dict = df_train[categorical + numerical].to_dict(orient='records')\n",
    "X_train = dv.fit_transform(train_dict)\n",
    "\n",
    "val_dict = df_valid[categorical + numerical].to_dict(orient='records')\n",
    "x_val = dv.transform(val_dict)"
   ]
  },
  {
   "cell_type": "code",
   "execution_count": 24,
   "id": "453c407f-40ad-4910-8054-b3b786aedf09",
   "metadata": {},
   "outputs": [],
   "source": [
    "\n",
    "target = 'duration'\n",
    "y_train = df_train[target].values\n",
    "y_valid = df_valid[target].values"
   ]
  },
  {
   "cell_type": "code",
   "execution_count": 47,
   "id": "1bf28d0e-d2d9-48a9-8750-c82dbe7fa5bc",
   "metadata": {},
   "outputs": [
    {
     "name": "stdout",
     "output_type": "stream",
     "text": [
      "6.030871201958465\n"
     ]
    },
    {
     "name": "stderr",
     "output_type": "stream",
     "text": [
      "/home/codespace/.local/lib/python3.12/site-packages/sklearn/metrics/_regression.py:492: FutureWarning: 'squared' is deprecated in version 1.4 and will be removed in 1.6. To calculate the root mean squared error, use the function'root_mean_squared_error'.\n",
      "  warnings.warn(\n"
     ]
    }
   ],
   "source": [
    "\n",
    "#training\n",
    "Linear_R = LinearRegression()\n",
    "Linear_R.fit(X_train,y_train)\n",
    "#prediction\n",
    "y_pred = Linear_R.predict(x_val)\n",
    "#evaluation\n",
    "rmse = root_mean_squared_error(y_valid,y_pred)\n",
    "print(rmse)"
   ]
  },
  {
   "cell_type": "markdown",
   "id": "5c05fc5d-b8ff-460d-8a20-792aa3d0bf0c",
   "metadata": {},
   "source": [
    "##### dump model to pickle"
   ]
  },
  {
   "attachments": {},
   "cell_type": "markdown",
   "id": "d78dac2d-53fd-4c82-a786-9a3c0d695703",
   "metadata": {},
   "source": [
    "model_choice = 'linear_reg_yellow'\n",
    "out_put_file = f'model_type_{model_choice}.bin'\n",
    "\n",
    "\n",
    "with open(f'../models/{out_put_file}', 'wb') as f_out:\n",
    "    pickle.dump((dv, Linear_R), f_out)\n",
    "\n",
    "with open(f'../models/{out_put_file}', 'rb') as f_in:\n",
    "    dv, Linear_R = pickle.load(f_in)"
   ]
  },
  {
   "cell_type": "code",
   "execution_count": 11,
   "id": "7286657c-2da6-4538-96c9-d13f30930473",
   "metadata": {},
   "outputs": [
    {
     "data": {
      "text/plain": [
       "(DictVectorizer(), LinearRegression())"
      ]
     },
     "execution_count": 11,
     "metadata": {},
     "output_type": "execute_result"
    }
   ],
   "source": [
    "dv, Linear_R"
   ]
  },
  {
   "cell_type": "code",
   "execution_count": 42,
   "id": "b1e62e4e-4347-4528-b98c-a13c38e5282c",
   "metadata": {},
   "outputs": [],
   "source": [
    "inference_input = {\n",
    "    \"PULocationID\": 140,\n",
    "    \"DOLocationID\": 50,\n",
    "    \"PU_DO\": '140_50',\n",
    "    \"trip_distance\": 5.4\n",
    "}"
   ]
  },
  {
   "cell_type": "code",
   "execution_count": 43,
   "id": "98e2022e-6ebf-4d96-bba3-23d2c238da7b",
   "metadata": {},
   "outputs": [
    {
     "name": "stdout",
     "output_type": "stream",
     "text": [
      "[23.88872229]\n"
     ]
    }
   ],
   "source": [
    "X_inf = dv.transform([inference_input])\n",
    "y_pred = Linear_R.predict(X_inf)\n",
    "print(y_pred)"
   ]
  },
  {
   "cell_type": "code",
   "execution_count": null,
   "id": "4e73523a-cad2-4643-ada0-26355dbcc015",
   "metadata": {},
   "outputs": [],
   "source": []
  },
  {
   "cell_type": "code",
   "execution_count": null,
   "id": "c77c42c7-ff9b-4db0-9542-98c76a325016",
   "metadata": {},
   "outputs": [],
   "source": []
  },
  {
   "cell_type": "markdown",
   "id": "882d5cff-7ba5-45ea-a46e-acfba2f87cab",
   "metadata": {},
   "source": [
    "## with Lasso Reg"
   ]
  },
  {
   "cell_type": "code",
   "execution_count": 17,
   "id": "32d904a0-9921-42e9-a2e4-465c17b1fc33",
   "metadata": {},
   "outputs": [
    {
     "name": "stderr",
     "output_type": "stream",
     "text": [
      "/home/codespace/.local/lib/python3.12/site-packages/sklearn/metrics/_regression.py:492: FutureWarning: 'squared' is deprecated in version 1.4 and will be removed in 1.6. To calculate the root mean squared error, use the function'root_mean_squared_error'.\n",
      "  warnings.warn(\n"
     ]
    },
    {
     "data": {
      "text/plain": [
       "np.float64(7.7361261061027395)"
      ]
     },
     "execution_count": 17,
     "metadata": {},
     "output_type": "execute_result"
    }
   ],
   "source": [
    "#With Lasso\n",
    "lr = Lasso(alpha=0.01)\n",
    "lr.fit(X_train,y_train)\n",
    "#prediction\n",
    "y_pred = lr.predict(x_val)\n",
    "#evaluation\n",
    "rmse = root_mean_squared_error(y_valid,y_pred)"
   ]
  },
  {
   "cell_type": "code",
   "execution_count": 18,
   "id": "9d527773-c008-4d5a-8cb1-8527b4d730b5",
   "metadata": {},
   "outputs": [
    {
     "name": "stderr",
     "output_type": "stream",
     "text": [
      "/home/codespace/.local/lib/python3.12/site-packages/sklearn/metrics/_regression.py:492: FutureWarning: 'squared' is deprecated in version 1.4 and will be removed in 1.6. To calculate the root mean squared error, use the function'root_mean_squared_error'.\n",
      "  warnings.warn(\n"
     ]
    },
    {
     "data": {
      "text/plain": [
       "np.float64(7.348087107758644)"
      ]
     },
     "execution_count": 18,
     "metadata": {},
     "output_type": "execute_result"
    }
   ],
   "source": [
    "#With Ridge\n",
    "LR = Ridge()\n",
    "LR.fit(X_train,y_train)\n",
    "#prediction\n",
    "y_pred = LR.predict(x_val)\n",
    "#evaluation\n",
    "rmse = root_mean_squared_error(y_valid,y_pred)"
   ]
  },
  {
   "cell_type": "code",
   "execution_count": null,
   "id": "33810f07-ec9b-4a88-a768-9ef3e6831db1",
   "metadata": {},
   "outputs": [],
   "source": []
  }
 ],
 "metadata": {
  "kernelspec": {
   "display_name": "Python 3 (ipykernel)",
   "language": "python",
   "name": "python3"
  },
  "language_info": {
   "codemirror_mode": {
    "name": "ipython",
    "version": 3
   },
   "file_extension": ".py",
   "mimetype": "text/x-python",
   "name": "python",
   "nbconvert_exporter": "python",
   "pygments_lexer": "ipython3",
   "version": "3.12.2"
  }
 },
 "nbformat": 4,
 "nbformat_minor": 5
}
