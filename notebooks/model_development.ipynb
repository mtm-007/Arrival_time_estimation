{
 "cells": [
  {
   "cell_type": "code",
   "execution_count": 1,
   "id": "7171e806-16ea-43de-8733-ed48830ebe96",
   "metadata": {},
   "outputs": [],
   "source": [
    "import pandas as pd\n",
    "import numpy as np\n",
    "import seaborn as sns\n",
    "import matplotlib.pyplot as plt\n",
    "from sklearn.feature_extraction import DictVectorizer\n",
    "from sklearn.linear_model import LinearRegression"
   ]
  },
  {
   "cell_type": "code",
   "execution_count": 4,
   "id": "09a6cb8f-4d26-4efa-ab18-30313a602da3",
   "metadata": {},
   "outputs": [],
   "source": [
    "import pickle\n",
    "import pyarrow"
   ]
  },
  {
   "cell_type": "code",
   "execution_count": 9,
   "id": "6e2dd8b0-eb4f-40bd-8bc4-cecab48ec857",
   "metadata": {},
   "outputs": [],
   "source": [
    "from sklearn.linear_model import Lasso\n",
    "from sklearn.linear_model import Ridge\n",
    "from sklearn.metrics import mean_squared_error"
   ]
  },
  {
   "cell_type": "markdown",
   "id": "59b02dc9-b5dc-43cd-9e01-5a6becb31730",
   "metadata": {},
   "source": [
    "### data summary\n",
    "- There are 68211 total records, after filtering by duration > 1 & <=60 there will be 65924 records, which is 96% of the data"
   ]
  },
  {
   "cell_type": "code",
   "execution_count": 10,
   "id": "6c6f918d-69eb-46be-8b38-d5d4005be88b",
   "metadata": {},
   "outputs": [],
   "source": [
    "def read_and_preprocess(filename):\n",
    "    df = pd.read_parquet(filename)\n",
    "    \n",
    "    df.lpep_pickup_datetime = pd.to_datetime(df.lpep_pickup_datetime)\n",
    "    df.lpep_dropoff_datetime = pd.to_datetime(df.lpep_dropoff_datetime)\n",
    "    \n",
    "    df['duration'] = df.lpep_dropoff_datetime - df.lpep_pickup_datetime\n",
    "    \n",
    "    df['duration'] = df['duration'].apply(lambda td: td.total_seconds()/60)\n",
    "    df['PU_DO'] = df['PULocationID'].astype(str) + '_' + df['DOLocationID'].astype(str)\n",
    "    \n",
    "    #categorical = ['PU_DO']#'DOLocationID',]\n",
    "    categorical = ['PULocationID','DOLocationID']#'DOLocationID',]\n",
    "    numerical = ['trip_distance']\n",
    "    \n",
    "    df[categorical]= df[categorical].astype(str)\n",
    "    df = df[(df.duration > 1) & (df.duration <=60)]\n",
    "    return df"
   ]
  },
  {
   "cell_type": "code",
   "execution_count": 12,
   "id": "ec1d57e6-46be-45ee-a66d-f1b9e6028351",
   "metadata": {},
   "outputs": [],
   "source": [
    "df_train = read_and_preprocess('../data/green_tripdata_2023-01.parquet')\n",
    "df_valid = read_and_preprocess('../data/green_tripdata_2023-02.parquet')"
   ]
  },
  {
   "cell_type": "code",
   "execution_count": 13,
   "id": "8f9aa6be-5508-44d5-827c-29a7246a3a78",
   "metadata": {},
   "outputs": [
    {
     "data": {
      "text/plain": [
       "(65924, 62547)"
      ]
     },
     "execution_count": 13,
     "metadata": {},
     "output_type": "execute_result"
    }
   ],
   "source": [
    "len(df_train),len(df_valid)"
   ]
  },
  {
   "cell_type": "markdown",
   "id": "f618d875-b67f-47a1-a1d6-2dc99d5dc529",
   "metadata": {},
   "source": [
    "### Training pipeline"
   ]
  },
  {
   "cell_type": "code",
   "execution_count": 14,
   "id": "7c63d282-bae6-4fc9-9eb8-609a0b8dd5b5",
   "metadata": {},
   "outputs": [],
   "source": [
    "dv = DictVectorizer()\n",
    "\n",
    "categorical = ['PULocationID','DOLocationID']\n",
    "numerical = ['trip_distance']\n",
    "\n",
    "train_dict = df_train[categorical + numerical].to_dict(orient='records')\n",
    "X_train = dv.fit_transform(train_dict)\n",
    "\n",
    "val_dict = df_valid[categorical + numerical].to_dict(orient='records')\n",
    "x_val = dv.transform(val_dict)"
   ]
  },
  {
   "cell_type": "code",
   "execution_count": 15,
   "id": "453c407f-40ad-4910-8054-b3b786aedf09",
   "metadata": {},
   "outputs": [],
   "source": [
    "\n",
    "target = 'duration'\n",
    "y_train = df_train[target].values\n",
    "y_valid = df_valid[target].values"
   ]
  },
  {
   "cell_type": "code",
   "execution_count": 22,
   "id": "1bf28d0e-d2d9-48a9-8750-c82dbe7fa5bc",
   "metadata": {},
   "outputs": [
    {
     "name": "stderr",
     "output_type": "stream",
     "text": [
      "/home/codespace/.local/lib/python3.12/site-packages/sklearn/metrics/_regression.py:492: FutureWarning: 'squared' is deprecated in version 1.4 and will be removed in 1.6. To calculate the root mean squared error, use the function'root_mean_squared_error'.\n",
      "  warnings.warn(\n"
     ]
    },
    {
     "data": {
      "text/plain": [
       "np.float64(7.351803299238336)"
      ]
     },
     "execution_count": 22,
     "metadata": {},
     "output_type": "execute_result"
    }
   ],
   "source": [
    "\n",
    "#training\n",
    "Linear_R = LinearRegression()\n",
    "Linear_R.fit(X_train,y_train)\n",
    "#prediction\n",
    "y_pred = Linear_R.predict(x_val)\n",
    "#evaluation\n",
    "mean_squared_error(y_valid,y_pred, squared=False)"
   ]
  },
  {
   "cell_type": "markdown",
   "id": "5c05fc5d-b8ff-460d-8a20-792aa3d0bf0c",
   "metadata": {},
   "source": [
    "##### dump model to pickle"
   ]
  },
  {
   "cell_type": "code",
   "execution_count": 2,
   "id": "2851ee37-1716-41f3-9fa3-b3a00d34e874",
   "metadata": {},
   "outputs": [],
   "source": [
    "model_choice = 'linear_reg'\n",
    "out_put_file = f'model_type_{model_choice}.bin'"
   ]
  },
  {
   "cell_type": "code",
   "execution_count": 26,
   "id": "28cb8027-916c-47c6-9c00-7ed69a94c62e",
   "metadata": {},
   "outputs": [],
   "source": [
    "\n",
    "with open(f'../models/{out_put_file}', 'wb') as f_out:\n",
    "    pickle.dump((dv, Linear_R), f_out)"
   ]
  },
  {
   "cell_type": "code",
   "execution_count": 6,
   "id": "801c0b3d-ab8a-4c97-9f4b-8298e3ad7ef4",
   "metadata": {},
   "outputs": [],
   "source": [
    "with open(f'../models/{out_put_file}', 'rb') as f_in:\n",
    "    dv, Linear_R = pickle.load(f_in)"
   ]
  },
  {
   "cell_type": "code",
   "execution_count": 8,
   "id": "7286657c-2da6-4538-96c9-d13f30930473",
   "metadata": {},
   "outputs": [
    {
     "data": {
      "text/plain": [
       "(DictVectorizer(), LinearRegression())"
      ]
     },
     "execution_count": 8,
     "metadata": {},
     "output_type": "execute_result"
    }
   ],
   "source": [
    "dv, Linear_R"
   ]
  },
  {
   "cell_type": "markdown",
   "id": "882d5cff-7ba5-45ea-a46e-acfba2f87cab",
   "metadata": {},
   "source": [
    "## with Lasso Reg"
   ]
  },
  {
   "cell_type": "code",
   "execution_count": 17,
   "id": "32d904a0-9921-42e9-a2e4-465c17b1fc33",
   "metadata": {},
   "outputs": [
    {
     "name": "stderr",
     "output_type": "stream",
     "text": [
      "/home/codespace/.local/lib/python3.12/site-packages/sklearn/metrics/_regression.py:492: FutureWarning: 'squared' is deprecated in version 1.4 and will be removed in 1.6. To calculate the root mean squared error, use the function'root_mean_squared_error'.\n",
      "  warnings.warn(\n"
     ]
    },
    {
     "data": {
      "text/plain": [
       "np.float64(7.7361261061027395)"
      ]
     },
     "execution_count": 17,
     "metadata": {},
     "output_type": "execute_result"
    }
   ],
   "source": [
    "#With Lasso\n",
    "lr = Lasso(alpha=0.01)\n",
    "lr.fit(X_train,y_train)\n",
    "#prediction\n",
    "y_pred = lr.predict(x_val)\n",
    "#evaluation\n",
    "mean_squared_error(y_valid,y_pred, squared=False)"
   ]
  },
  {
   "cell_type": "code",
   "execution_count": 18,
   "id": "9d527773-c008-4d5a-8cb1-8527b4d730b5",
   "metadata": {},
   "outputs": [
    {
     "name": "stderr",
     "output_type": "stream",
     "text": [
      "/home/codespace/.local/lib/python3.12/site-packages/sklearn/metrics/_regression.py:492: FutureWarning: 'squared' is deprecated in version 1.4 and will be removed in 1.6. To calculate the root mean squared error, use the function'root_mean_squared_error'.\n",
      "  warnings.warn(\n"
     ]
    },
    {
     "data": {
      "text/plain": [
       "np.float64(7.348087107758644)"
      ]
     },
     "execution_count": 18,
     "metadata": {},
     "output_type": "execute_result"
    }
   ],
   "source": [
    "#With Ridge\n",
    "LR = Ridge()\n",
    "LR.fit(X_train,y_train)\n",
    "#prediction\n",
    "y_pred = LR.predict(x_val)\n",
    "#evaluation\n",
    "mean_squared_error(y_valid,y_pred, squared=False)"
   ]
  },
  {
   "cell_type": "code",
   "execution_count": null,
   "id": "33810f07-ec9b-4a88-a768-9ef3e6831db1",
   "metadata": {},
   "outputs": [],
   "source": []
  }
 ],
 "metadata": {
  "kernelspec": {
   "display_name": "Python 3 (ipykernel)",
   "language": "python",
   "name": "python3"
  },
  "language_info": {
   "codemirror_mode": {
    "name": "ipython",
    "version": 3
   },
   "file_extension": ".py",
   "mimetype": "text/x-python",
   "name": "python",
   "nbconvert_exporter": "python",
   "pygments_lexer": "ipython3",
   "version": "3.12.1"
  }
 },
 "nbformat": 4,
 "nbformat_minor": 5
}
