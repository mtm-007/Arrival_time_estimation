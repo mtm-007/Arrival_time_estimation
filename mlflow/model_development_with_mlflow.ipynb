{
 "cells": [
  {
   "cell_type": "code",
   "execution_count": 2,
   "id": "7171e806-16ea-43de-8733-ed48830ebe96",
   "metadata": {},
   "outputs": [],
   "source": [
    "import pandas as pd\n",
    "import numpy as np\n",
    "import seaborn as sns\n",
    "import matplotlib.pyplot as plt\n",
    "from sklearn.feature_extraction import DictVectorizer\n",
    "from sklearn.linear_model import LinearRegression"
   ]
  },
  {
   "cell_type": "code",
   "execution_count": 3,
   "id": "09a6cb8f-4d26-4efa-ab18-30313a602da3",
   "metadata": {},
   "outputs": [],
   "source": [
    "import pickle\n",
    "import xgboost as xgb\n",
    "\n",
    "from hyperopt import fmin,tpe,hp,STATUS_OK,Trials\n",
    "from hyperopt.pyll import scope"
   ]
  },
  {
   "cell_type": "code",
   "execution_count": 4,
   "id": "6e2dd8b0-eb4f-40bd-8bc4-cecab48ec857",
   "metadata": {},
   "outputs": [],
   "source": [
    "from sklearn.linear_model import Lasso\n",
    "from sklearn.linear_model import Ridge\n",
    "from sklearn.metrics import mean_squared_error"
   ]
  },
  {
   "cell_type": "code",
   "execution_count": 5,
   "id": "6379ed9a-6e7d-4c71-b11d-7290aacace7d",
   "metadata": {},
   "outputs": [
    {
     "data": {
      "text/plain": [
       "<Experiment: artifact_location='/workspaces/Arrival_time_estimation/mlflow/mlruns/1', creation_time=1724119947795, experiment_id='1', last_update_time=1724119947795, lifecycle_stage='active', name='nyc_taxi_duration_first_exp', tags={}>"
      ]
     },
     "execution_count": 5,
     "metadata": {},
     "output_type": "execute_result"
    }
   ],
   "source": [
    "import mlflow\n",
    "\n",
    "mlflow.set_tracking_uri(\"sqlite:///mlflow.db\")\n",
    "mlflow.set_experiment(\"nyc_taxi_duration_first_exp\")"
   ]
  },
  {
   "cell_type": "markdown",
   "id": "59b02dc9-b5dc-43cd-9e01-5a6becb31730",
   "metadata": {},
   "source": [
    "### data summary\n",
    "- There are 68211 total records, after filtering by duration > 1 & <=60 there will be 65924 records, which is 96% of the data"
   ]
  },
  {
   "cell_type": "code",
   "execution_count": 6,
   "id": "6c6f918d-69eb-46be-8b38-d5d4005be88b",
   "metadata": {},
   "outputs": [],
   "source": [
    "def read_and_preprocess(filename):\n",
    "    df = pd.read_parquet(filename)\n",
    "    \n",
    "    df.lpep_pickup_datetime = pd.to_datetime(df.lpep_pickup_datetime)\n",
    "    df.lpep_dropoff_datetime = pd.to_datetime(df.lpep_dropoff_datetime)\n",
    "    \n",
    "    df['duration'] = df.lpep_dropoff_datetime - df.lpep_pickup_datetime\n",
    "    \n",
    "    df['duration'] = df['duration'].apply(lambda td: td.total_seconds()/60)\n",
    "    df['PU_DO'] = df['PULocationID'].astype(str) + '_' + df['DOLocationID'].astype(str)\n",
    "    \n",
    "    #categorical = ['PU_DO']#'DOLocationID',]\n",
    "    categorical = ['PULocationID','DOLocationID']#'DOLocationID',]\n",
    "    numerical = ['trip_distance']\n",
    "    \n",
    "    df[categorical]= df[categorical].astype(str)\n",
    "    df = df[(df.duration > 1) & (df.duration <=60)]\n",
    "    return df"
   ]
  },
  {
   "cell_type": "code",
   "execution_count": 7,
   "id": "ec1d57e6-46be-45ee-a66d-f1b9e6028351",
   "metadata": {},
   "outputs": [],
   "source": [
    "df_train = read_and_preprocess('../data/green_tripdata_2023-01.parquet')\n",
    "df_valid = read_and_preprocess('../data/green_tripdata_2023-02.parquet')"
   ]
  },
  {
   "cell_type": "code",
   "execution_count": 8,
   "id": "8f9aa6be-5508-44d5-827c-29a7246a3a78",
   "metadata": {},
   "outputs": [
    {
     "data": {
      "text/plain": [
       "(65924, 62547)"
      ]
     },
     "execution_count": 8,
     "metadata": {},
     "output_type": "execute_result"
    }
   ],
   "source": [
    "len(df_train),len(df_valid)"
   ]
  },
  {
   "cell_type": "markdown",
   "id": "f618d875-b67f-47a1-a1d6-2dc99d5dc529",
   "metadata": {},
   "source": [
    "### Training pipeline"
   ]
  },
  {
   "cell_type": "code",
   "execution_count": 9,
   "id": "7c63d282-bae6-4fc9-9eb8-609a0b8dd5b5",
   "metadata": {},
   "outputs": [],
   "source": [
    "dv = DictVectorizer()\n",
    "\n",
    "categorical = ['PULocationID','DOLocationID']\n",
    "numerical = ['trip_distance']\n",
    "\n",
    "train_dict = df_train[categorical + numerical].to_dict(orient='records')\n",
    "X_train = dv.fit_transform(train_dict)\n",
    "\n",
    "val_dict = df_valid[categorical + numerical].to_dict(orient='records')\n",
    "x_val = dv.transform(val_dict)"
   ]
  },
  {
   "cell_type": "code",
   "execution_count": 10,
   "id": "453c407f-40ad-4910-8054-b3b786aedf09",
   "metadata": {},
   "outputs": [],
   "source": [
    "\n",
    "target = 'duration'\n",
    "y_train = df_train[target].values\n",
    "y_valid = df_valid[target].values"
   ]
  },
  {
   "cell_type": "code",
   "execution_count": 11,
   "id": "1bf28d0e-d2d9-48a9-8750-c82dbe7fa5bc",
   "metadata": {},
   "outputs": [
    {
     "data": {
      "text/plain": [
       "7.352385182267624"
      ]
     },
     "execution_count": 11,
     "metadata": {},
     "output_type": "execute_result"
    }
   ],
   "source": [
    "\n",
    "#training\n",
    "Lr = LinearRegression()\n",
    "Lr.fit(X_train,y_train)\n",
    "#prediction\n",
    "y_pred = Lr.predict(x_val)\n",
    "#evaluation\n",
    "mean_squared_error(y_valid,y_pred, squared=False)"
   ]
  },
  {
   "cell_type": "markdown",
   "id": "5c05fc5d-b8ff-460d-8a20-792aa3d0bf0c",
   "metadata": {},
   "source": [
    "##### dump model to pickle"
   ]
  },
  {
   "cell_type": "code",
   "execution_count": null,
   "id": "a202b5eb-a18f-450f-8f3c-00474e91ac90",
   "metadata": {},
   "outputs": [],
   "source": [
    "with open('../models/lin_Reg.bin', 'wb') as f_out:\n",
    "    pickle.dump((dv,Lr), f_out)"
   ]
  },
  {
   "cell_type": "markdown",
   "id": "882d5cff-7ba5-45ea-a46e-acfba2f87cab",
   "metadata": {},
   "source": [
    "## with Lasso Reg"
   ]
  },
  {
   "cell_type": "code",
   "execution_count": 14,
   "id": "32d904a0-9921-42e9-a2e4-465c17b1fc33",
   "metadata": {},
   "outputs": [],
   "source": [
    "#With Lasso\n",
    "with mlflow.start_run():\n",
    "    \n",
    "    mlflow.set_tag(\"developer\",\"Merhawi\")\n",
    "    \n",
    "    mlflow.log_param(\"train_data_path\",\"../data/green_tripdata_2023-01.parquet\")\n",
    "    mlflow.log_param(\"valid_data_path\",\"../data/green_tripdata_2023-02.parquet\")\n",
    "    \n",
    "    alpha = 0.01\n",
    "    mlflow.log_param(\"alpha\",alpha)\n",
    "    \n",
    "    lr = Lasso(alpha)\n",
    "    lr.fit(X_train,y_train)\n",
    "    #prediction\n",
    "    y_pred = lr.predict(x_val)\n",
    "    #evaluation\n",
    "    RMSE = mean_squared_error(y_valid,y_pred, squared=False)\n",
    "    mlflow.log_metric(\"Rmse\",RMSE)\n",
    "    \n",
    "    mlflow.log_artifact(local_path=\"../models/lin_Reg.bin\", artifact_path=\"models_pickle\")"
   ]
  },
  {
   "cell_type": "code",
   "execution_count": 17,
   "id": "9d527773-c008-4d5a-8cb1-8527b4d730b5",
   "metadata": {},
   "outputs": [
    {
     "data": {
      "text/plain": [
       "7.382906622848506"
      ]
     },
     "execution_count": 17,
     "metadata": {},
     "output_type": "execute_result"
    }
   ],
   "source": [
    "#With Ridge\n",
    "LR = Ridge()\n",
    "LR.fit(X_train,y_train)\n",
    "#prediction\n",
    "y_pred = LR.predict(x_val)\n",
    "#evaluation\n",
    "mean_squared_error(y_valid,y_pred, squared=False)"
   ]
  },
  {
   "cell_type": "code",
   "execution_count": null,
   "id": "33810f07-ec9b-4a88-a768-9ef3e6831db1",
   "metadata": {},
   "outputs": [],
   "source": []
  },
  {
   "cell_type": "code",
   "execution_count": 12,
   "id": "164954e0-8f01-4983-9932-55110272fb36",
   "metadata": {},
   "outputs": [],
   "source": [
    "train = xgb.DMatrix(X_train, label = y_train)\n",
    "valid = xgb.DMatrix(x_val, label = y_valid)"
   ]
  },
  {
   "cell_type": "markdown",
   "id": "e7953276-a68e-49dd-b1a7-f996728e7fbd",
   "metadata": {},
   "source": [
    "### error hint\n",
    "- simple adding comas between can add error with \"got tuple\", \n",
    "- Carefully inspect the lines"
   ]
  },
  {
   "cell_type": "code",
   "execution_count": 19,
   "id": "71d2f6f9-c421-4d58-8599-11ee1936801b",
   "metadata": {},
   "outputs": [],
   "source": [
    "\n",
    "def objective(params):\n",
    "    \n",
    "    with mlflow.start_run():\n",
    "        \n",
    "        mlflow.set_tag('model', 'xgboost')\n",
    "        mlflow.log_params(params)\n",
    "        booster = xgb.train(\n",
    "            params = params,\n",
    "            dtrain = train,\n",
    "            num_boost_round = 1000,\n",
    "            evals = [(valid, \"validation\")],\n",
    "            early_stopping_rounds = 50\n",
    "        )\n",
    "        \n",
    "        y_pred = booster.predict(valid)\n",
    "\n",
    "        rmse = mean_squared_error(y_valid, y_pred, squared=False)\n",
    "        mlflow.log_metric(\"rmse\",rmse)\n",
    "        \n",
    "    return {\"loss\": rmse, \"status\": STATUS_OK}"
   ]
  },
  {
   "cell_type": "code",
   "execution_count": null,
   "id": "a0dffa97-2a6c-468f-ab30-8bdf9d25af45",
   "metadata": {},
   "outputs": [],
   "source": [
    "search_space = {\n",
    "    \"max_depth\": scope.int(hp.quniform('max_depth', 4, 100, 1)),\n",
    "    \"learning_rate\": hp.loguniform(\"learning_rate\", -3, 0), # this range means exp(-3),exp(0) -> [0.05,1.0]\n",
    "    \"reg_alpha\": hp.loguniform(\"reg_alpha\", -5, -1),\n",
    "    \"reg_lambda\": hp.loguniform(\"reg_lambda\", -6,-1),\n",
    "    \"min_child_weight\": hp.loguniform(\"min_child_weight\", -1,3),\n",
    "    \"objective\": 'reg:linear',\n",
    "    \"seed\":42\n",
    "    }\n",
    "\n",
    "best_result = fmin(\n",
    "    fn = objective,\n",
    "    space = search_space,\n",
    "    algo = tpe.suggest,\n",
    "    max_evals = 5,\n",
    "    trials = Trials()\n",
    ")"
   ]
  },
  {
   "cell_type": "code",
   "execution_count": null,
   "id": "fdff1d40-b656-42e0-8bb5-aba3ec419b02",
   "metadata": {},
   "outputs": [],
   "source": [
    "params = {\n",
    "    \"learning_rate\": 0.2787670044958393,\n",
    "    \"max_depth\":6,\n",
    "    \"min_child_weight\": 6.387869017513505,\n",
    "    \"objective\" :'reg:linear',\n",
    "    \"reg_alpha\" : 0.25974368153512745,\n",
    "    \"reg_lambda\": 0.06449934239324491,\n",
    "    \"seed\": 42\n",
    "}\n",
    "\n",
    "mlflow.xgboost.autolog()\n",
    "\n",
    "booster = xgb.train(\n",
    "            params = params,\n",
    "            dtrain = train,\n",
    "            num_boost_round = 1000,\n",
    "            evals = [(valid, \"validation\")],\n",
    "            early_stopping_rounds = 50\n",
    "        )\n",
    "y_pred = booster.predict(valid)\n",
    "\n",
    "rmse = mean_squared_error(y_valid, y_pred, squared=False)\n",
    "mlflow.log_metric(\"rmse\",rmse)"
   ]
  },
  {
   "cell_type": "code",
   "execution_count": 25,
   "id": "cd2577a4-00e3-43c9-b646-9eaad9dc3cd3",
   "metadata": {},
   "outputs": [],
   "source": [
    "mlflow.xgboost.autolog(disable=True)\n",
    "import os\n",
    "os.makedirs(\"models\", exist_ok=True)"
   ]
  },
  {
   "cell_type": "code",
   "execution_count": null,
   "id": "1447346a-e97c-403f-90be-4e67bc6f3da9",
   "metadata": {},
   "outputs": [],
   "source": [
    "with mlflow.start_run():\n",
    "    best_params = {\n",
    "    \"learning_rate\": 0.2787670044958393,\n",
    "    \"max_depth\":6,\n",
    "    \"min_child_weight\": 6.387869017513505,\n",
    "    \"objective\" :'reg:linear',\n",
    "    \"reg_alpha\" : 0.25974368153512745,\n",
    "    \"reg_lambda\": 0.06449934239324491,\n",
    "    \"seed\": 42\n",
    "    }\n",
    "\n",
    "    \n",
    "    mlflow.log_params(best_params)\n",
    "\n",
    "    booster = xgb.train(\n",
    "                params = best_params,\n",
    "                dtrain = train,\n",
    "                num_boost_round = 1000,\n",
    "                evals = [(valid, \"validation\")],\n",
    "                early_stopping_rounds = 50\n",
    "            )\n",
    "    y_pred = booster.predict(valid)\n",
    "\n",
    "    rmse = mean_squared_error(y_valid, y_pred, squared=False)\n",
    "    mlflow.log_metric(\"rmse\",rmse)\n",
    "    \n",
    "    with open(\"models/preprocessor.b\", \"wb\")as f_out:\n",
    "        pickle.dump(dv, f_out)\n",
    "    \n",
    "    mlflow.log_artifact(\"models/preprocessor.b\", artifact_path= \"preprocessor\")\n",
    "    \n",
    "    mlflow.xgboost.log_model(booster, artifact_path=\"models_mlflow\")"
   ]
  },
  {
   "cell_type": "code",
   "execution_count": 32,
   "id": "8c77b34c-5331-4fc7-b3a0-3b2d7d5f20f8",
   "metadata": {},
   "outputs": [],
   "source": [
    "#loading and validating model before deployment\n",
    "# as a python function\n",
    "logged_model = 'runs:/5cde0dbba36e4d55b9d72b2f88c561c2/models_mlflow'\n",
    "\n",
    "# Load model as a PyFuncModel.\n",
    "loaded_model = mlflow.pyfunc.load_model(logged_model)"
   ]
  },
  {
   "cell_type": "code",
   "execution_count": 28,
   "id": "fc07b66f-6e0e-4ff7-91e8-b3d7f17a2a34",
   "metadata": {},
   "outputs": [
    {
     "data": {
      "text/plain": [
       "mlflow.pyfunc.loaded_model:\n",
       "  artifact_path: models_mlflow\n",
       "  flavor: mlflow.xgboost\n",
       "  run_id: 5cde0dbba36e4d55b9d72b2f88c561c2"
      ]
     },
     "execution_count": 28,
     "metadata": {},
     "output_type": "execute_result"
    }
   ],
   "source": [
    "loaded_model"
   ]
  },
  {
   "cell_type": "code",
   "execution_count": 31,
   "id": "8c85b32d-21b8-42fc-98a2-5def3ba2d46e",
   "metadata": {},
   "outputs": [],
   "source": [
    "#as an xgboost object\n",
    "xgboost_model = mlflow.xgboost.load_model(logged_model)"
   ]
  },
  {
   "cell_type": "code",
   "execution_count": 30,
   "id": "72a3af94-a6f5-4277-9002-1061d87fe988",
   "metadata": {},
   "outputs": [
    {
     "data": {
      "text/plain": [
       "<xgboost.core.Booster at 0x793aaeae6f10>"
      ]
     },
     "execution_count": 30,
     "metadata": {},
     "output_type": "execute_result"
    }
   ],
   "source": [
    "xgboost_model"
   ]
  },
  {
   "cell_type": "code",
   "execution_count": 33,
   "id": "abd30e6f-266a-4787-9a52-edbc68f023fd",
   "metadata": {},
   "outputs": [],
   "source": [
    "y_pre_xgb = xgboost_model.predict(valid)"
   ]
  },
  {
   "cell_type": "code",
   "execution_count": 34,
   "id": "1a578dbb-92a6-4eb7-8bbc-86b71c74a6c2",
   "metadata": {},
   "outputs": [
    {
     "data": {
      "text/plain": [
       "array([24.479042, 22.26141 , 29.449394, 18.56988 , 13.519386, 12.868946,\n",
       "       10.607654,  8.320804, 13.055486,  8.200915], dtype=float32)"
      ]
     },
     "execution_count": 34,
     "metadata": {},
     "output_type": "execute_result"
    }
   ],
   "source": [
    "y_pre_xgb[:10]"
   ]
  },
  {
   "cell_type": "markdown",
   "id": "436e00f3-eeb1-449d-88a5-f6f9bd018608",
   "metadata": {},
   "source": [
    "## with Gradient boosting regressor"
   ]
  },
  {
   "cell_type": "code",
   "execution_count": 1,
   "id": "e1ac52da-39a3-4e47-869e-5fc160bffdfe",
   "metadata": {},
   "outputs": [],
   "source": [
    "from sklearn.ensemble import GradientBoostingRegressor\n",
    "from sklearn.metrics import mean_squared_error"
   ]
  },
  {
   "cell_type": "code",
   "execution_count": null,
   "id": "516b8ce0-e210-4e3d-9b7a-bace909302fa",
   "metadata": {},
   "outputs": [],
   "source": [
    "gradient_b_params = {\n",
    "    \"learning_rate\": 0.2787670044958393,\n",
    "    \"max_depth\": 6,\n",
    "    \"min_samples_split\": 6,\n",
    "    \"alpha\": 0.25974368153512745,\n",
    "    \"lambda\": 0.06449934239324491,\n",
    "    \"random_state\": 42\n",
    "}\n",
    "\n",
    "\n",
    "    \n",
    "with mlflow.start_run():\n",
    "    params=gradient_b_params\n",
    "    model_type='gradient_boosting'\n",
    "\n",
    "    mlflow.set_tag('model', model_type)\n",
    "    mlflow.sklearn.autolog()\n",
    "    mlflow.log_params(params)\n",
    "\n",
    "    #model_type == 'gradient_boosting':\n",
    "    model = GradientBoostingRegressor(**params)\n",
    "    model.fit(train_X, train_y)\n",
    "    y_pred = model.predict(valid_X)\n",
    "\n",
    "    rmse = mean_squared_error(y_valid, y_pred, squared=False)\n",
    "    mlflow.log_metric(\"rmse\", rmse)\n",
    "\n",
    "return {\"loss\": rmse, \"status\": STATUS_OK}\n",
    "\n",
    "#     with open(\"models/preprocessor.b\", \"wb\")as f_out:\n",
    "#         pickle.dump(dv, f_out)\n",
    "\n",
    "#     mlflow.log_artifact(\"models/preprocessor.b\", artifact_path= \"preprocessor\")\n",
    "\n",
    "#     mlflow.sklearn.log_model(booster, artifact_path=\"models_mlflow\")\n"
   ]
  },
  {
   "cell_type": "code",
   "execution_count": null,
   "id": "4c2b271f-0e89-444e-9769-dc41d7d77f47",
   "metadata": {},
   "outputs": [],
   "source": []
  }
 ],
 "metadata": {
  "kernelspec": {
   "display_name": "Python 3 (ipykernel)",
   "language": "python",
   "name": "python3"
  },
  "language_info": {
   "codemirror_mode": {
    "name": "ipython",
    "version": 3
   },
   "file_extension": ".py",
   "mimetype": "text/x-python",
   "name": "python",
   "nbconvert_exporter": "python",
   "pygments_lexer": "ipython3",
   "version": "3.12.1"
  }
 },
 "nbformat": 4,
 "nbformat_minor": 5
}
