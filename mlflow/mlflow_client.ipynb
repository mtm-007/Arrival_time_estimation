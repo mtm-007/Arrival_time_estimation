{
 "cells": [
  {
   "cell_type": "code",
   "execution_count": null,
   "id": "f4f160ec-d8b1-4f08-8399-21883bc55c8b",
   "metadata": {},
   "outputs": [],
   "source": [
    "import mlflow\n",
    "from mlflow.tracking import MlflowClient\n",
    "\n",
    "mlflow_tracking_uri = \"sqlite:///mlflow.db\"\n",
    "client = MlflowClient(tracking_uri=mlflow_tracking_uri)"
   ]
  },
  {
   "cell_type": "code",
   "execution_count": 3,
   "id": "6730a4a6-82c3-4ca2-b4d8-78ebdce99b77",
   "metadata": {},
   "outputs": [
    {
     "data": {
      "text/plain": [
       "[<Experiment: artifact_location='/workspaces/Arrival_time_estimation/mlflow/mlruns/2', creation_time=1724448331870, experiment_id='2', last_update_time=1724448331870, lifecycle_stage='active', name='second_experiment', tags={}>,\n",
       " <Experiment: artifact_location='/workspaces/Arrival_time_estimation/mlflow/mlruns/1', creation_time=1724119947795, experiment_id='1', last_update_time=1724119947795, lifecycle_stage='active', name='nyc_taxi_duration_first_exp', tags={}>]"
      ]
     },
     "execution_count": 3,
     "metadata": {},
     "output_type": "execute_result"
    }
   ],
   "source": [
    "\n",
    "client.search_experiments()"
   ]
  },
  {
   "cell_type": "code",
   "execution_count": 25,
   "id": "1c1f9ceb-87db-433f-b988-1f2d5f7e2f44",
   "metadata": {},
   "outputs": [],
   "source": [
    "#to create new experiment\n",
    "#client.create_experiment(name='second_experiment')"
   ]
  },
  {
   "cell_type": "code",
   "execution_count": 50,
   "id": "e1aa624a-fc0e-47f2-a045-2b4c830f972f",
   "metadata": {},
   "outputs": [],
   "source": [
    "from mlflow.entities import ViewType\n",
    "\n",
    "runs = client.search_runs(\n",
    "    experiment_ids='1',\n",
    "    filter_string=\"status='FINISHED' \",\n",
    "    run_view_type=ViewType.ACTIVE_ONLY,\n",
    "    max_results= 5,\n",
    "    order_by=[\"metrics.rmse ASC\"]\n",
    ")"
   ]
  },
  {
   "cell_type": "code",
   "execution_count": 51,
   "id": "edb6566d-1809-4c53-b975-4c0c02a601f5",
   "metadata": {},
   "outputs": [
    {
     "name": "stdout",
     "output_type": "stream",
     "text": [
      "run id:5cde0dbba36e4d55b9d72b2f88c561c2, rmse:4.9727\n",
      "run id:8acfbf48b0c84198b5729f17e47f546c, rmse:4.9727\n",
      "run id:0d391e7e8bee4c9697f78817b28b498c, rmse:4.9727\n",
      "run id:a7e6f7a8457941d4a30b63d4d15bdd34, rmse:4.9727\n",
      "run id:c87d607c6da741eea74565ceea1f4659, rmse:4.9799\n"
     ]
    }
   ],
   "source": [
    "for run in runs:\n",
    "    print(f\"run id:{run.info.run_id}, rmse:{run.data.metrics['rmse']:.4f}\") "
   ]
  },
  {
   "cell_type": "code",
   "execution_count": 52,
   "id": "867b9886-70e5-4b5c-b8e5-6b1ce3dd11e1",
   "metadata": {},
   "outputs": [],
   "source": [
    "mlflow.set_tracking_uri(mlflow_tracking_uri)"
   ]
  },
  {
   "cell_type": "code",
   "execution_count": 53,
   "id": "67db44bf-840b-49a0-b073-5e4412fbf23c",
   "metadata": {},
   "outputs": [
    {
     "name": "stderr",
     "output_type": "stream",
     "text": [
      "Registered model 'nyc_taxi_duration_first_exp' already exists. Creating a new version of this model...\n",
      "Created version '3' of model 'nyc_taxi_duration_first_exp'.\n"
     ]
    },
    {
     "data": {
      "text/plain": [
       "<ModelVersion: aliases=[], creation_timestamp=1724461513955, current_stage='None', description=None, last_updated_timestamp=1724461513955, name='nyc_taxi_duration_first_exp', run_id='a7e6f7a8457941d4a30b63d4d15bdd34', run_link=None, source='/workspaces/Arrival_time_estimation/mlflow/mlruns/1/a7e6f7a8457941d4a30b63d4d15bdd34/artifacts/model', status='READY', status_message=None, tags={}, user_id=None, version=3>"
      ]
     },
     "execution_count": 53,
     "metadata": {},
     "output_type": "execute_result"
    }
   ],
   "source": [
    "## model_name = nyc_taxi_duration_first_exp\n",
    "\n",
    "run_id = \"a7e6f7a8457941d4a30b63d4d15bdd34\"\n",
    "model_uri= f\"runs:/{run_id}/model\"\n",
    "mlflow.register_model(model_uri=model_uri, name=\"nyc_taxi_duration_first_exp\")"
   ]
  },
  {
   "cell_type": "code",
   "execution_count": 56,
   "id": "3b34f25d-89dd-4971-a2dc-16d56225f123",
   "metadata": {},
   "outputs": [
    {
     "name": "stderr",
     "output_type": "stream",
     "text": [
      "Registered model 'Nyc_taxi_Arrival' already exists. Creating a new version of this model...\n",
      "Created version '3' of model 'Nyc_taxi_Arrival'.\n"
     ]
    },
    {
     "data": {
      "text/plain": [
       "<ModelVersion: aliases=[], creation_timestamp=1724454594949, current_stage='None', description=None, last_updated_timestamp=1724454594949, name='Nyc_taxi_Arrival', run_id='c87d607c6da741eea74565ceea1f4659', run_link=None, source='/workspaces/Arrival_time_estimation/mlflow/mlruns/1/c87d607c6da741eea74565ceea1f4659/artifacts/model', status='READY', status_message=None, tags={}, user_id=None, version=3>"
      ]
     },
     "execution_count": 56,
     "metadata": {},
     "output_type": "execute_result"
    }
   ],
   "source": [
    "# model_name = Nyc_taxi_Arrival\n",
    "\n",
    "run_id = \"c87d607c6da741eea74565ceea1f4659\"\n",
    "model_uri= f\"runs:/{run_id}/model\"\n",
    "mlflow.register_model(model_uri=model_uri, name=\"Nyc_taxi_Arrival\")"
   ]
  },
  {
   "cell_type": "code",
   "execution_count": 38,
   "id": "3f592d5a-99bd-4e6f-9cbc-4d3bc9a9a060",
   "metadata": {},
   "outputs": [
    {
     "name": "stdout",
     "output_type": "stream",
     "text": [
      "version: 3, stage:Staging\n",
      "version: 2, stage:Production\n"
     ]
    },
    {
     "name": "stderr",
     "output_type": "stream",
     "text": [
      "/tmp/ipykernel_3136/2279912268.py:2: FutureWarning: ``mlflow.tracking.client.MlflowClient.get_latest_versions`` is deprecated since 2.9.0. Model registry stages will be removed in a future major release. To learn more about the deprecation of model registry stages, see our migration guide here: https://mlflow.org/docs/latest/model-registry.html#migrating-from-stages\n",
      "  latest_verions = client.get_latest_versions(name=model_name)\n"
     ]
    }
   ],
   "source": [
    "model_name = \"Nyc_taxi_Arrival\"\n",
    "latest_verions = client.get_latest_versions(name=model_name)\n",
    "\n",
    "for version in latest_verions:\n",
    "    print(f\"version: {version.version}, stage:{version.current_stage}\")"
   ]
  },
  {
   "cell_type": "code",
   "execution_count": 65,
   "id": "5f0cc9d3-01cd-417f-af46-93c346824207",
   "metadata": {},
   "outputs": [
    {
     "name": "stderr",
     "output_type": "stream",
     "text": [
      "/tmp/ipykernel_11787/1324065282.py:5: FutureWarning: ``mlflow.tracking.client.MlflowClient.transition_model_version_stage`` is deprecated since 2.9.0. Model registry stages will be removed in a future major release. To learn more about the deprecation of model registry stages, see our migration guide here: https://mlflow.org/docs/latest/model-registry.html#migrating-from-stages\n",
      "  client.transition_model_version_stage(\n"
     ]
    },
    {
     "data": {
      "text/plain": [
       "<ModelVersion: aliases=[], creation_timestamp=1724454664819, current_stage='Staging', description=None, last_updated_timestamp=1724455222814, name='nyc_taxi_duration_first_exp', run_id='a7e6f7a8457941d4a30b63d4d15bdd34', run_link=None, source='/workspaces/Arrival_time_estimation/mlflow/mlruns/1/a7e6f7a8457941d4a30b63d4d15bdd34/artifacts/model', status='READY', status_message=None, tags={}, user_id=None, version=2>"
      ]
     },
     "execution_count": 65,
     "metadata": {},
     "output_type": "execute_result"
    }
   ],
   "source": [
    "model_version = 2\n",
    "new_stage= \"Staging\"\n",
    "model_name = \"nyc_taxi_duration_first_exp\"\n",
    "\n",
    "client.transition_model_version_stage(\n",
    "    name= model_name,\n",
    "    version=model_version,\n",
    "    stage=new_stage,\n",
    "    archive_existing_versions=False\n",
    ")"
   ]
  },
  {
   "cell_type": "code",
   "execution_count": 7,
   "id": "2173bb16-ee78-4d6b-9816-212e09bbc4c9",
   "metadata": {},
   "outputs": [],
   "source": [
    "from datetime import datetime"
   ]
  },
  {
   "cell_type": "code",
   "execution_count": 29,
   "id": "ef54936f-7ab5-4d49-875b-ada7e9f079ea",
   "metadata": {},
   "outputs": [
    {
     "data": {
      "text/plain": [
       "<ModelVersion: aliases=[], creation_timestamp=1724454594949, current_stage='Staging', description='The model version 3 was transitioned to Staging on 2024-08-24', last_updated_timestamp=1724460461547, name='Nyc_taxi_Arrival', run_id='c87d607c6da741eea74565ceea1f4659', run_link=None, source='/workspaces/Arrival_time_estimation/mlflow/mlruns/1/c87d607c6da741eea74565ceea1f4659/artifacts/model', status='READY', status_message=None, tags={}, user_id=None, version=3>"
      ]
     },
     "execution_count": 29,
     "metadata": {},
     "output_type": "execute_result"
    }
   ],
   "source": [
    "date = datetime.today().date()\n",
    "model_version = 3\n",
    "model_name = \"Nyc_taxi_Arrival\"\n",
    "model_name_2= \"nyc_taxi_duration_first_exp \"\n",
    "new_stage= \"Staging\"\n",
    "client.update_model_version(\n",
    "    name= model_name,\n",
    "    version= model_version,\n",
    "    description=f\"The model version {model_version} was transitioned to {new_stage} on {date}\"\n",
    ")"
   ]
  },
  {
   "cell_type": "code",
   "execution_count": 61,
   "id": "1b2462a9-c6f8-45c8-b37a-a5cddd5e2cf7",
   "metadata": {},
   "outputs": [],
   "source": [
    "from sklearn.metrics import mean_squared_error\n",
    "import pandas as pd\n",
    "\n",
    "def read_DataFrame(filename):\n",
    "    df = pd.read_parquet(filename)\n",
    "    \n",
    "    df.lpep_pickup_datetime = pd.to_datetime(df.lpep_pickup_datetime)\n",
    "    df.lpep_dropoff_datetime = pd.to_datetime(df.lpep_dropoff_datetime)\n",
    "    \n",
    "    df['duration'] = df.lpep_dropoff_datetime - df.lpep_pickup_datetime\n",
    "    \n",
    "    df['duration'] = df['duration'].apply(lambda td: td.total_seconds()/60)\n",
    "    df['PU_DO'] = df['PULocationID'].astype(str) + '_' + df['DOLocationID'].astype(str)\n",
    "    \n",
    "    \n",
    "    categorical = ['PULocationID','DOLocationID']\n",
    "    numerical = ['trip_distance']\n",
    "    \n",
    "    df[categorical]= df[categorical].astype(str)\n",
    "    df = df[(df.duration > 1) & (df.duration <=60)]\n",
    "    return df\n",
    "\n",
    "def preprocessing_data(df, dv):\n",
    "    #dv = DictVectorizer()\n",
    "    \n",
    "    df['PU_DO'] = df['PULocationID'].astype(str) + '_' + df['DOLocationID'].astype(str)\n",
    "    categorical = ['PU_DO']\n",
    "    numerical = ['trip_distance']\n",
    "\n",
    "    train_dict = df[categorical + numerical].to_dict(orient='records')\n",
    "    return dv.transform(train_dict)\n",
    "\n",
    "\n",
    "def test_model(name, stage, X_test, y_test):\n",
    "    model = mlflow.pyfunc.load_model(f\"models:/{name}/{stage}\")\n",
    "    y_pred = model.predict(X_test)\n",
    "    return {\"rmse\": mean_squared_error(y_test, y_pred, squared=False)}"
   ]
  },
  {
   "cell_type": "code",
   "execution_count": 31,
   "id": "a8fc12ad-ebc6-4541-abca-e1333c9481e0",
   "metadata": {},
   "outputs": [],
   "source": [
    "df = read_DataFrame(\"../data/green_tripdata_2023-03.parquet\")"
   ]
  },
  {
   "cell_type": "code",
   "execution_count": null,
   "id": "0373895c-68ab-4355-b1f8-4ea903940c12",
   "metadata": {},
   "outputs": [],
   "source": [
    "run_id='5cde0dbba36e4d55b9d72b2f88c561c2'\n",
    "client.download_artifacts(run_id=run_id, path= 'preprocessor', dst_path='.')"
   ]
  },
  {
   "cell_type": "code",
   "execution_count": 12,
   "id": "f3c471b5-572b-430e-bd84-02b5dfc41cc1",
   "metadata": {},
   "outputs": [],
   "source": [
    "import pickle\n",
    "\n",
    "with open(\"models/preprocessor.b\", 'rb') as f_in:\n",
    "    dv= pickle.load(f_in)"
   ]
  },
  {
   "cell_type": "code",
   "execution_count": 32,
   "id": "3de38f0e-02dc-4506-bc1a-cee08531e08c",
   "metadata": {},
   "outputs": [],
   "source": [
    "X_test = preprocessing_data(df, dv)"
   ]
  },
  {
   "cell_type": "code",
   "execution_count": 33,
   "id": "a89fff1f-e6db-4fd5-8076-0b085410a9cd",
   "metadata": {},
   "outputs": [],
   "source": [
    "target = 'duration'\n",
    "y_test = df[target].values"
   ]
  },
  {
   "cell_type": "code",
   "execution_count": 57,
   "id": "af7baf9e-a7df-4913-94f0-554450029106",
   "metadata": {
    "jupyter": {
     "source_hidden": true
    },
    "tags": []
   },
   "outputs": [
    {
     "name": "stdout",
     "output_type": "stream",
     "text": [
      "Version: 2, Status: READY, Source: /workspaces/Arrival_time_estimation/mlflow/mlruns/1/a7e6f7a8457941d4a30b63d4d15bdd34/artifacts/model\n",
      "Version: 3, Status: READY, Source: /workspaces/Arrival_time_estimation/mlflow/mlruns/1/a7e6f7a8457941d4a30b63d4d15bdd34/artifacts/model\n"
     ]
    }
   ],
   "source": [
    "client = mlflow.tracking.MlflowClient()\n",
    "versions = client.get_registered_model(name=\"nyc_taxi_duration_first_exp\").latest_versions\n",
    "for v in versions:\n",
    "    print(f\"Version: {v.version}, Status: {v.status}, Source: {v.source}\")\n"
   ]
  },
  {
   "cell_type": "code",
   "execution_count": 71,
   "id": "16798f33-c1ee-48a9-b3d9-0f5d0057d06f",
   "metadata": {},
   "outputs": [],
   "source": [
    "def test_model(name, Versions, X_test, y_test):\n",
    "    model_uri = f\"models:/{name}/{Versions}\"\n",
    "    print(f\"Loading model from: {model_uri}\")\n",
    "    model = mlflow.pyfunc.load_model(model_uri)\n",
    "    y_pred = model.predict(X_test)\n",
    "    return {\"rmse\": mean_squared_error(y_test, y_pred, squared=False)}\n"
   ]
  },
  {
   "cell_type": "code",
   "execution_count": null,
   "id": "ca4f36f5-fbf0-4794-9538-2b6942955a86",
   "metadata": {},
   "outputs": [],
   "source": [
    "\n",
    "model = mlflow.pyfunc.load_model(model_uri)"
   ]
  },
  {
   "cell_type": "markdown",
   "id": "2ee9e60e-6ffd-49ff-8361-745305e8716f",
   "metadata": {},
   "source": [
    "#### follow the old mlflow UI "
   ]
  },
  {
   "cell_type": "code",
   "execution_count": null,
   "id": "6b45ca6f-1f61-46aa-84a3-ed66e070e431",
   "metadata": {},
   "outputs": [],
   "source": [
    "%time test_model(name= \"nyc_taxi_duration_first_exp \", Versions=2, X_test=X_test, y_test=y_test)"
   ]
  },
  {
   "cell_type": "code",
   "execution_count": null,
   "id": "0edb6e93-07fb-4482-bf76-d6ae4cdf1a2f",
   "metadata": {},
   "outputs": [],
   "source": []
  }
 ],
 "metadata": {
  "kernelspec": {
   "display_name": "Python 3 (ipykernel)",
   "language": "python",
   "name": "python3"
  },
  "language_info": {
   "codemirror_mode": {
    "name": "ipython",
    "version": 3
   },
   "file_extension": ".py",
   "mimetype": "text/x-python",
   "name": "python",
   "nbconvert_exporter": "python",
   "pygments_lexer": "ipython3",
   "version": "3.12.1"
  }
 },
 "nbformat": 4,
 "nbformat_minor": 5
}
