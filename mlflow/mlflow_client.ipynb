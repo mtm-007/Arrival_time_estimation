{
 "cells": [
  {
   "cell_type": "code",
   "execution_count": 49,
   "id": "f4f160ec-d8b1-4f08-8399-21883bc55c8b",
   "metadata": {},
   "outputs": [],
   "source": [
    "import mlflow\n",
    "from mlflow.tracking import MlflowClient\n",
    "\n",
    "mlflow_tracking_uri = \"sqlite:///mlflow.db\"\n",
    "client = MlflowClient(tracking_uri=mlflow_tracking_uri)"
   ]
  },
  {
   "cell_type": "code",
   "execution_count": 3,
   "id": "6730a4a6-82c3-4ca2-b4d8-78ebdce99b77",
   "metadata": {},
   "outputs": [
    {
     "data": {
      "text/plain": [
       "[<Experiment: artifact_location='/workspaces/Arrival_time_estimation/mlflow/mlruns/2', creation_time=1724448331870, experiment_id='2', last_update_time=1724448331870, lifecycle_stage='active', name='second_experiment', tags={}>,\n",
       " <Experiment: artifact_location='/workspaces/Arrival_time_estimation/mlflow/mlruns/1', creation_time=1724119947795, experiment_id='1', last_update_time=1724119947795, lifecycle_stage='active', name='nyc_taxi_duration_first_exp', tags={}>]"
      ]
     },
     "execution_count": 3,
     "metadata": {},
     "output_type": "execute_result"
    }
   ],
   "source": [
    "\n",
    "client.search_experiments()"
   ]
  },
  {
   "cell_type": "code",
   "execution_count": 25,
   "id": "1c1f9ceb-87db-433f-b988-1f2d5f7e2f44",
   "metadata": {},
   "outputs": [],
   "source": [
    "#to create new experiment\n",
    "#client.create_experiment(name='second_experiment')"
   ]
  },
  {
   "cell_type": "code",
   "execution_count": 50,
   "id": "e1aa624a-fc0e-47f2-a045-2b4c830f972f",
   "metadata": {},
   "outputs": [],
   "source": [
    "from mlflow.entities import ViewType\n",
    "\n",
    "runs = client.search_runs(\n",
    "    experiment_ids='1',\n",
    "    filter_string=\"status='FINISHED' \",\n",
    "    run_view_type=ViewType.ACTIVE_ONLY,\n",
    "    max_results= 5,\n",
    "    order_by=[\"metrics.rmse ASC\"]\n",
    ")"
   ]
  },
  {
   "cell_type": "code",
   "execution_count": 51,
   "id": "edb6566d-1809-4c53-b975-4c0c02a601f5",
   "metadata": {},
   "outputs": [
    {
     "name": "stdout",
     "output_type": "stream",
     "text": [
      "run id:5cde0dbba36e4d55b9d72b2f88c561c2, rmse:4.9727\n",
      "run id:8acfbf48b0c84198b5729f17e47f546c, rmse:4.9727\n",
      "run id:0d391e7e8bee4c9697f78817b28b498c, rmse:4.9727\n",
      "run id:a7e6f7a8457941d4a30b63d4d15bdd34, rmse:4.9727\n",
      "run id:c87d607c6da741eea74565ceea1f4659, rmse:4.9799\n"
     ]
    }
   ],
   "source": [
    "for run in runs:\n",
    "    print(f\"run id:{run.info.run_id}, rmse:{run.data.metrics['rmse']:.4f}\") "
   ]
  },
  {
   "cell_type": "code",
   "execution_count": 52,
   "id": "867b9886-70e5-4b5c-b8e5-6b1ce3dd11e1",
   "metadata": {},
   "outputs": [],
   "source": [
    "mlflow.set_tracking_uri(mlflow_tracking_uri)"
   ]
  },
  {
   "cell_type": "code",
   "execution_count": 53,
   "id": "67db44bf-840b-49a0-b073-5e4412fbf23c",
   "metadata": {},
   "outputs": [
    {
     "name": "stderr",
     "output_type": "stream",
     "text": [
      "Registered model 'nyc_taxi_duration_first_exp' already exists. Creating a new version of this model...\n",
      "Created version '3' of model 'nyc_taxi_duration_first_exp'.\n"
     ]
    },
    {
     "data": {
      "text/plain": [
       "<ModelVersion: aliases=[], creation_timestamp=1724461513955, current_stage='None', description=None, last_updated_timestamp=1724461513955, name='nyc_taxi_duration_first_exp', run_id='a7e6f7a8457941d4a30b63d4d15bdd34', run_link=None, source='/workspaces/Arrival_time_estimation/mlflow/mlruns/1/a7e6f7a8457941d4a30b63d4d15bdd34/artifacts/model', status='READY', status_message=None, tags={}, user_id=None, version=3>"
      ]
     },
     "execution_count": 53,
     "metadata": {},
     "output_type": "execute_result"
    }
   ],
   "source": [
    "## model_name = nyc_taxi_duration_first_exp\n",
    "\n",
    "run_id = \"a7e6f7a8457941d4a30b63d4d15bdd34\"\n",
    "model_uri= f\"runs:/{run_id}/model\"\n",
    "mlflow.register_model(model_uri=model_uri, name=\"nyc_taxi_duration_first_exp\")"
   ]
  },
  {
   "cell_type": "code",
   "execution_count": 56,
   "id": "3b34f25d-89dd-4971-a2dc-16d56225f123",
   "metadata": {},
   "outputs": [
    {
     "name": "stderr",
     "output_type": "stream",
     "text": [
      "Registered model 'Nyc_taxi_Arrival' already exists. Creating a new version of this model...\n",
      "Created version '3' of model 'Nyc_taxi_Arrival'.\n"
     ]
    },
    {
     "data": {
      "text/plain": [
       "<ModelVersion: aliases=[], creation_timestamp=1724454594949, current_stage='None', description=None, last_updated_timestamp=1724454594949, name='Nyc_taxi_Arrival', run_id='c87d607c6da741eea74565ceea1f4659', run_link=None, source='/workspaces/Arrival_time_estimation/mlflow/mlruns/1/c87d607c6da741eea74565ceea1f4659/artifacts/model', status='READY', status_message=None, tags={}, user_id=None, version=3>"
      ]
     },
     "execution_count": 56,
     "metadata": {},
     "output_type": "execute_result"
    }
   ],
   "source": [
    "# model_name = Nyc_taxi_Arrival\n",
    "\n",
    "run_id = \"c87d607c6da741eea74565ceea1f4659\"\n",
    "model_uri= f\"runs:/{run_id}/model\"\n",
    "mlflow.register_model(model_uri=model_uri, name=\"Nyc_taxi_Arrival\")"
   ]
  },
  {
   "cell_type": "code",
   "execution_count": 38,
   "id": "3f592d5a-99bd-4e6f-9cbc-4d3bc9a9a060",
   "metadata": {},
   "outputs": [
    {
     "name": "stdout",
     "output_type": "stream",
     "text": [
      "version: 3, stage:Staging\n",
      "version: 2, stage:Production\n"
     ]
    },
    {
     "name": "stderr",
     "output_type": "stream",
     "text": [
      "/tmp/ipykernel_3136/2279912268.py:2: FutureWarning: ``mlflow.tracking.client.MlflowClient.get_latest_versions`` is deprecated since 2.9.0. Model registry stages will be removed in a future major release. To learn more about the deprecation of model registry stages, see our migration guide here: https://mlflow.org/docs/latest/model-registry.html#migrating-from-stages\n",
      "  latest_verions = client.get_latest_versions(name=model_name)\n"
     ]
    }
   ],
   "source": [
    "model_name = \"Nyc_taxi_Arrival\"\n",
    "latest_verions = client.get_latest_versions(name=model_name)\n",
    "\n",
    "for version in latest_verions:\n",
    "    print(f\"version: {version.version}, stage:{version.current_stage}\")"
   ]
  },
  {
   "cell_type": "code",
   "execution_count": 65,
   "id": "5f0cc9d3-01cd-417f-af46-93c346824207",
   "metadata": {},
   "outputs": [
    {
     "name": "stderr",
     "output_type": "stream",
     "text": [
      "/tmp/ipykernel_11787/1324065282.py:5: FutureWarning: ``mlflow.tracking.client.MlflowClient.transition_model_version_stage`` is deprecated since 2.9.0. Model registry stages will be removed in a future major release. To learn more about the deprecation of model registry stages, see our migration guide here: https://mlflow.org/docs/latest/model-registry.html#migrating-from-stages\n",
      "  client.transition_model_version_stage(\n"
     ]
    },
    {
     "data": {
      "text/plain": [
       "<ModelVersion: aliases=[], creation_timestamp=1724454664819, current_stage='Staging', description=None, last_updated_timestamp=1724455222814, name='nyc_taxi_duration_first_exp', run_id='a7e6f7a8457941d4a30b63d4d15bdd34', run_link=None, source='/workspaces/Arrival_time_estimation/mlflow/mlruns/1/a7e6f7a8457941d4a30b63d4d15bdd34/artifacts/model', status='READY', status_message=None, tags={}, user_id=None, version=2>"
      ]
     },
     "execution_count": 65,
     "metadata": {},
     "output_type": "execute_result"
    }
   ],
   "source": [
    "model_version = 2\n",
    "new_stage= \"Staging\"\n",
    "model_name = \"nyc_taxi_duration_first_exp\"\n",
    "\n",
    "client.transition_model_version_stage(\n",
    "    name= model_name,\n",
    "    version=model_version,\n",
    "    stage=new_stage,\n",
    "    archive_existing_versions=False\n",
    ")"
   ]
  },
  {
   "cell_type": "code",
   "execution_count": 7,
   "id": "2173bb16-ee78-4d6b-9816-212e09bbc4c9",
   "metadata": {},
   "outputs": [],
   "source": [
    "from datetime import datetime"
   ]
  },
  {
   "cell_type": "code",
   "execution_count": 29,
   "id": "ef54936f-7ab5-4d49-875b-ada7e9f079ea",
   "metadata": {},
   "outputs": [
    {
     "data": {
      "text/plain": [
       "<ModelVersion: aliases=[], creation_timestamp=1724454594949, current_stage='Staging', description='The model version 3 was transitioned to Staging on 2024-08-24', last_updated_timestamp=1724460461547, name='Nyc_taxi_Arrival', run_id='c87d607c6da741eea74565ceea1f4659', run_link=None, source='/workspaces/Arrival_time_estimation/mlflow/mlruns/1/c87d607c6da741eea74565ceea1f4659/artifacts/model', status='READY', status_message=None, tags={}, user_id=None, version=3>"
      ]
     },
     "execution_count": 29,
     "metadata": {},
     "output_type": "execute_result"
    }
   ],
   "source": [
    "date = datetime.today().date()\n",
    "model_version = 3\n",
    "model_name = \"Nyc_taxi_Arrival\"\n",
    "model_name_2= \"nyc_taxi_duration_first_exp \"\n",
    "new_stage= \"Staging\"\n",
    "client.update_model_version(\n",
    "    name= model_name,\n",
    "    version= model_version,\n",
    "    description=f\"The model version {model_version} was transitioned to {new_stage} on {date}\"\n",
    ")"
   ]
  },
  {
   "cell_type": "code",
   "execution_count": 61,
   "id": "1b2462a9-c6f8-45c8-b37a-a5cddd5e2cf7",
   "metadata": {},
   "outputs": [],
   "source": [
    "from sklearn.metrics import mean_squared_error\n",
    "import pandas as pd\n",
    "\n",
    "def read_DataFrame(filename):\n",
    "    df = pd.read_parquet(filename)\n",
    "    \n",
    "    df.lpep_pickup_datetime = pd.to_datetime(df.lpep_pickup_datetime)\n",
    "    df.lpep_dropoff_datetime = pd.to_datetime(df.lpep_dropoff_datetime)\n",
    "    \n",
    "    df['duration'] = df.lpep_dropoff_datetime - df.lpep_pickup_datetime\n",
    "    \n",
    "    df['duration'] = df['duration'].apply(lambda td: td.total_seconds()/60)\n",
    "    df['PU_DO'] = df['PULocationID'].astype(str) + '_' + df['DOLocationID'].astype(str)\n",
    "    \n",
    "    \n",
    "    categorical = ['PULocationID','DOLocationID']\n",
    "    numerical = ['trip_distance']\n",
    "    \n",
    "    df[categorical]= df[categorical].astype(str)\n",
    "    df = df[(df.duration > 1) & (df.duration <=60)]\n",
    "    return df\n",
    "\n",
    "def preprocessing_data(df, dv):\n",
    "    #dv = DictVectorizer()\n",
    "    \n",
    "    df['PU_DO'] = df['PULocationID'].astype(str) + '_' + df['DOLocationID'].astype(str)\n",
    "    categorical = ['PU_DO']\n",
    "    numerical = ['trip_distance']\n",
    "\n",
    "    train_dict = df[categorical + numerical].to_dict(orient='records')\n",
    "    return dv.transform(train_dict)\n",
    "\n",
    "\n",
    "def test_model(name, stage, X_test, y_test):\n",
    "    model = mlflow.pyfunc.load_model(f\"models:/{name}/{stage}\")\n",
    "    y_pred = model.predict(X_test)\n",
    "    return {\"rmse\": mean_squared_error(y_test, y_pred, squared=False)}"
   ]
  },
  {
   "cell_type": "code",
   "execution_count": 31,
   "id": "a8fc12ad-ebc6-4541-abca-e1333c9481e0",
   "metadata": {},
   "outputs": [],
   "source": [
    "df = read_DataFrame(\"../data/green_tripdata_2023-03.parquet\")"
   ]
  },
  {
   "cell_type": "code",
   "execution_count": null,
   "id": "0373895c-68ab-4355-b1f8-4ea903940c12",
   "metadata": {},
   "outputs": [],
   "source": [
    "run_id='5cde0dbba36e4d55b9d72b2f88c561c2'\n",
    "client.download_artifacts(run_id=run_id, path= 'preprocessor', dst_path='.')"
   ]
  },
  {
   "cell_type": "code",
   "execution_count": 12,
   "id": "f3c471b5-572b-430e-bd84-02b5dfc41cc1",
   "metadata": {},
   "outputs": [],
   "source": [
    "import pickle\n",
    "\n",
    "with open(\"models/preprocessor.b\", 'rb') as f_in:\n",
    "    dv= pickle.load(f_in)"
   ]
  },
  {
   "cell_type": "code",
   "execution_count": 32,
   "id": "3de38f0e-02dc-4506-bc1a-cee08531e08c",
   "metadata": {},
   "outputs": [],
   "source": [
    "X_test = preprocessing_data(df, dv)"
   ]
  },
  {
   "cell_type": "code",
   "execution_count": 33,
   "id": "a89fff1f-e6db-4fd5-8076-0b085410a9cd",
   "metadata": {},
   "outputs": [],
   "source": [
    "target = 'duration'\n",
    "y_test = df[target].values"
   ]
  },
  {
   "cell_type": "code",
   "execution_count": 57,
   "id": "af7baf9e-a7df-4913-94f0-554450029106",
   "metadata": {
    "jupyter": {
     "source_hidden": true
    },
    "tags": []
   },
   "outputs": [
    {
     "name": "stdout",
     "output_type": "stream",
     "text": [
      "Version: 2, Status: READY, Source: /workspaces/Arrival_time_estimation/mlflow/mlruns/1/a7e6f7a8457941d4a30b63d4d15bdd34/artifacts/model\n",
      "Version: 3, Status: READY, Source: /workspaces/Arrival_time_estimation/mlflow/mlruns/1/a7e6f7a8457941d4a30b63d4d15bdd34/artifacts/model\n"
     ]
    }
   ],
   "source": [
    "client = mlflow.tracking.MlflowClient()\n",
    "versions = client.get_registered_model(name=\"nyc_taxi_duration_first_exp\").latest_versions\n",
    "for v in versions:\n",
    "    print(f\"Version: {v.version}, Status: {v.status}, Source: {v.source}\")\n"
   ]
  },
  {
   "cell_type": "code",
   "execution_count": 71,
   "id": "16798f33-c1ee-48a9-b3d9-0f5d0057d06f",
   "metadata": {},
   "outputs": [],
   "source": [
    "def test_model(name, Versions, X_test, y_test):\n",
    "    model_uri = f\"models:/{name}/{Versions}\"\n",
    "    print(f\"Loading model from: {model_uri}\")\n",
    "    model = mlflow.pyfunc.load_model(model_uri)\n",
    "    y_pred = model.predict(X_test)\n",
    "    return {\"rmse\": mean_squared_error(y_test, y_pred, squared=False)}\n"
   ]
  },
  {
   "cell_type": "code",
   "execution_count": null,
   "id": "ca4f36f5-fbf0-4794-9538-2b6942955a86",
   "metadata": {},
   "outputs": [],
   "source": [
    "\n",
    "model = mlflow.pyfunc.load_model(model_uri)"
   ]
  },
  {
   "cell_type": "code",
   "execution_count": 72,
   "id": "6b45ca6f-1f61-46aa-84a3-ed66e070e431",
   "metadata": {},
   "outputs": [
    {
     "name": "stdout",
     "output_type": "stream",
     "text": [
      "Loading model from: models:/nyc_taxi_duration_first_exp /2\n"
     ]
    },
    {
     "ename": "MlflowException",
     "evalue": "Model Version (name=nyc_taxi_duration_first_exp , version=2) not found",
     "output_type": "error",
     "traceback": [
      "\u001b[0;31m---------------------------------------------------------------------------\u001b[0m",
      "\u001b[0;31mMlflowException\u001b[0m                           Traceback (most recent call last)",
      "File \u001b[0;32m<timed eval>:1\u001b[0m, in \u001b[0;36m<module>\u001b[0;34m\u001b[0m\n",
      "Input \u001b[0;32mIn [71]\u001b[0m, in \u001b[0;36mtest_model\u001b[0;34m(name, Versions, X_test, y_test)\u001b[0m\n\u001b[1;32m      2\u001b[0m model_uri \u001b[38;5;241m=\u001b[39m \u001b[38;5;124mf\u001b[39m\u001b[38;5;124m\"\u001b[39m\u001b[38;5;124mmodels:/\u001b[39m\u001b[38;5;132;01m{\u001b[39;00mname\u001b[38;5;132;01m}\u001b[39;00m\u001b[38;5;124m/\u001b[39m\u001b[38;5;132;01m{\u001b[39;00mVersions\u001b[38;5;132;01m}\u001b[39;00m\u001b[38;5;124m\"\u001b[39m\n\u001b[1;32m      3\u001b[0m \u001b[38;5;28mprint\u001b[39m(\u001b[38;5;124mf\u001b[39m\u001b[38;5;124m\"\u001b[39m\u001b[38;5;124mLoading model from: \u001b[39m\u001b[38;5;132;01m{\u001b[39;00mmodel_uri\u001b[38;5;132;01m}\u001b[39;00m\u001b[38;5;124m\"\u001b[39m)\n\u001b[0;32m----> 4\u001b[0m model \u001b[38;5;241m=\u001b[39m \u001b[43mmlflow\u001b[49m\u001b[38;5;241;43m.\u001b[39;49m\u001b[43mpyfunc\u001b[49m\u001b[38;5;241;43m.\u001b[39;49m\u001b[43mload_model\u001b[49m\u001b[43m(\u001b[49m\u001b[43mmodel_uri\u001b[49m\u001b[43m)\u001b[49m\n\u001b[1;32m      5\u001b[0m y_pred \u001b[38;5;241m=\u001b[39m model\u001b[38;5;241m.\u001b[39mpredict(X_test)\n\u001b[1;32m      6\u001b[0m \u001b[38;5;28;01mreturn\u001b[39;00m {\u001b[38;5;124m\"\u001b[39m\u001b[38;5;124mrmse\u001b[39m\u001b[38;5;124m\"\u001b[39m: mean_squared_error(y_test, y_pred, squared\u001b[38;5;241m=\u001b[39m\u001b[38;5;28;01mFalse\u001b[39;00m)}\n",
      "File \u001b[0;32m~/anaconda3/lib/python3.9/site-packages/mlflow/tracing/provider.py:237\u001b[0m, in \u001b[0;36mtrace_disabled.<locals>.wrapper\u001b[0;34m(*args, **kwargs)\u001b[0m\n\u001b[1;32m    235\u001b[0m disable()\n\u001b[1;32m    236\u001b[0m \u001b[38;5;28;01mtry\u001b[39;00m:\n\u001b[0;32m--> 237\u001b[0m     is_func_called, result \u001b[38;5;241m=\u001b[39m \u001b[38;5;28;01mTrue\u001b[39;00m, \u001b[43mf\u001b[49m\u001b[43m(\u001b[49m\u001b[38;5;241;43m*\u001b[39;49m\u001b[43margs\u001b[49m\u001b[43m,\u001b[49m\u001b[43m \u001b[49m\u001b[38;5;241;43m*\u001b[39;49m\u001b[38;5;241;43m*\u001b[39;49m\u001b[43mkwargs\u001b[49m\u001b[43m)\u001b[49m\n\u001b[1;32m    238\u001b[0m \u001b[38;5;28;01mfinally\u001b[39;00m:\n\u001b[1;32m    239\u001b[0m     enable()\n",
      "File \u001b[0;32m~/anaconda3/lib/python3.9/site-packages/mlflow/pyfunc/__init__.py:993\u001b[0m, in \u001b[0;36mload_model\u001b[0;34m(model_uri, suppress_warnings, dst_path, model_config)\u001b[0m\n\u001b[1;32m    989\u001b[0m         entity_list\u001b[38;5;241m.\u001b[39mappend(Entity(job\u001b[38;5;241m=\u001b[39mjob_entity))\n\u001b[1;32m    991\u001b[0m     lineage_header_info \u001b[38;5;241m=\u001b[39m LineageHeaderInfo(entities\u001b[38;5;241m=\u001b[39mentity_list) \u001b[38;5;28;01mif\u001b[39;00m entity_list \u001b[38;5;28;01melse\u001b[39;00m \u001b[38;5;28;01mNone\u001b[39;00m\n\u001b[0;32m--> 993\u001b[0m local_path \u001b[38;5;241m=\u001b[39m \u001b[43m_download_artifact_from_uri\u001b[49m\u001b[43m(\u001b[49m\n\u001b[1;32m    994\u001b[0m \u001b[43m    \u001b[49m\u001b[43martifact_uri\u001b[49m\u001b[38;5;241;43m=\u001b[39;49m\u001b[43mmodel_uri\u001b[49m\u001b[43m,\u001b[49m\u001b[43m \u001b[49m\u001b[43moutput_path\u001b[49m\u001b[38;5;241;43m=\u001b[39;49m\u001b[43mdst_path\u001b[49m\u001b[43m,\u001b[49m\u001b[43m \u001b[49m\u001b[43mlineage_header_info\u001b[49m\u001b[38;5;241;43m=\u001b[39;49m\u001b[43mlineage_header_info\u001b[49m\n\u001b[1;32m    995\u001b[0m \u001b[43m\u001b[49m\u001b[43m)\u001b[49m\n\u001b[1;32m    997\u001b[0m \u001b[38;5;28;01mif\u001b[39;00m \u001b[38;5;129;01mnot\u001b[39;00m suppress_warnings:\n\u001b[1;32m    998\u001b[0m     model_requirements \u001b[38;5;241m=\u001b[39m _get_pip_requirements_from_model_path(local_path)\n",
      "File \u001b[0;32m~/anaconda3/lib/python3.9/site-packages/mlflow/tracking/artifact_utils.py:108\u001b[0m, in \u001b[0;36m_download_artifact_from_uri\u001b[0;34m(artifact_uri, output_path, lineage_header_info)\u001b[0m\n\u001b[1;32m    100\u001b[0m \u001b[38;5;124;03m\"\"\"\u001b[39;00m\n\u001b[1;32m    101\u001b[0m \u001b[38;5;124;03mArgs:\u001b[39;00m\n\u001b[1;32m    102\u001b[0m \u001b[38;5;124;03m    artifact_uri: The *absolute* URI of the artifact to download.\u001b[39;00m\n\u001b[0;32m   (...)\u001b[0m\n\u001b[1;32m    105\u001b[0m \u001b[38;5;124;03m    lineage_header_info: The model lineage header info to be consumed by lineage services.\u001b[39;00m\n\u001b[1;32m    106\u001b[0m \u001b[38;5;124;03m\"\"\"\u001b[39;00m\n\u001b[1;32m    107\u001b[0m root_uri, artifact_path \u001b[38;5;241m=\u001b[39m _get_root_uri_and_artifact_path(artifact_uri)\n\u001b[0;32m--> 108\u001b[0m repo \u001b[38;5;241m=\u001b[39m \u001b[43mget_artifact_repository\u001b[49m\u001b[43m(\u001b[49m\u001b[43martifact_uri\u001b[49m\u001b[38;5;241;43m=\u001b[39;49m\u001b[43mroot_uri\u001b[49m\u001b[43m)\u001b[49m\n\u001b[1;32m    110\u001b[0m \u001b[38;5;28;01mif\u001b[39;00m \u001b[38;5;28misinstance\u001b[39m(repo, ModelsArtifactRepository):\n\u001b[1;32m    111\u001b[0m     \u001b[38;5;28;01mreturn\u001b[39;00m repo\u001b[38;5;241m.\u001b[39mdownload_artifacts(\n\u001b[1;32m    112\u001b[0m         artifact_path\u001b[38;5;241m=\u001b[39martifact_path,\n\u001b[1;32m    113\u001b[0m         dst_path\u001b[38;5;241m=\u001b[39moutput_path,\n\u001b[1;32m    114\u001b[0m         lineage_header_info\u001b[38;5;241m=\u001b[39mlineage_header_info,\n\u001b[1;32m    115\u001b[0m     )\n",
      "File \u001b[0;32m~/anaconda3/lib/python3.9/site-packages/mlflow/store/artifact/artifact_repository_registry.py:133\u001b[0m, in \u001b[0;36mget_artifact_repository\u001b[0;34m(artifact_uri)\u001b[0m\n\u001b[1;32m    120\u001b[0m \u001b[38;5;28;01mdef\u001b[39;00m \u001b[38;5;21mget_artifact_repository\u001b[39m(artifact_uri: \u001b[38;5;28mstr\u001b[39m) \u001b[38;5;241m-\u001b[39m\u001b[38;5;241m>\u001b[39m ArtifactRepository:\n\u001b[1;32m    121\u001b[0m     \u001b[38;5;124;03m\"\"\"\u001b[39;00m\n\u001b[1;32m    122\u001b[0m \u001b[38;5;124;03m    Get an artifact repository from the registry based on the scheme of artifact_uri\u001b[39;00m\n\u001b[1;32m    123\u001b[0m \n\u001b[0;32m   (...)\u001b[0m\n\u001b[1;32m    131\u001b[0m \u001b[38;5;124;03m        requirements.\u001b[39;00m\n\u001b[1;32m    132\u001b[0m \u001b[38;5;124;03m    \"\"\"\u001b[39;00m\n\u001b[0;32m--> 133\u001b[0m     \u001b[38;5;28;01mreturn\u001b[39;00m \u001b[43m_artifact_repository_registry\u001b[49m\u001b[38;5;241;43m.\u001b[39;49m\u001b[43mget_artifact_repository\u001b[49m\u001b[43m(\u001b[49m\u001b[43martifact_uri\u001b[49m\u001b[43m)\u001b[49m\n",
      "File \u001b[0;32m~/anaconda3/lib/python3.9/site-packages/mlflow/store/artifact/artifact_repository_registry.py:78\u001b[0m, in \u001b[0;36mArtifactRepositoryRegistry.get_artifact_repository\u001b[0;34m(self, artifact_uri)\u001b[0m\n\u001b[1;32m     73\u001b[0m \u001b[38;5;28;01mif\u001b[39;00m repository \u001b[38;5;129;01mis\u001b[39;00m \u001b[38;5;28;01mNone\u001b[39;00m:\n\u001b[1;32m     74\u001b[0m     \u001b[38;5;28;01mraise\u001b[39;00m MlflowException(\n\u001b[1;32m     75\u001b[0m         \u001b[38;5;124mf\u001b[39m\u001b[38;5;124m\"\u001b[39m\u001b[38;5;124mCould not find a registered artifact repository for: \u001b[39m\u001b[38;5;132;01m{\u001b[39;00martifact_uri\u001b[38;5;132;01m}\u001b[39;00m\u001b[38;5;124m. \u001b[39m\u001b[38;5;124m\"\u001b[39m\n\u001b[1;32m     76\u001b[0m         \u001b[38;5;124mf\u001b[39m\u001b[38;5;124m\"\u001b[39m\u001b[38;5;124mCurrently registered schemes are: \u001b[39m\u001b[38;5;132;01m{\u001b[39;00m\u001b[38;5;28mlist\u001b[39m(\u001b[38;5;28mself\u001b[39m\u001b[38;5;241m.\u001b[39m_registry\u001b[38;5;241m.\u001b[39mkeys())\u001b[38;5;132;01m}\u001b[39;00m\u001b[38;5;124m\"\u001b[39m\n\u001b[1;32m     77\u001b[0m     )\n\u001b[0;32m---> 78\u001b[0m \u001b[38;5;28;01mreturn\u001b[39;00m \u001b[43mrepository\u001b[49m\u001b[43m(\u001b[49m\u001b[43martifact_uri\u001b[49m\u001b[43m)\u001b[49m\n",
      "File \u001b[0;32m~/anaconda3/lib/python3.9/site-packages/mlflow/store/artifact/models_artifact_repo.py:59\u001b[0m, in \u001b[0;36mModelsArtifactRepository.__init__\u001b[0;34m(self, artifact_uri)\u001b[0m\n\u001b[1;32m     53\u001b[0m     \u001b[38;5;28mself\u001b[39m\u001b[38;5;241m.\u001b[39mmodel_version \u001b[38;5;241m=\u001b[39m \u001b[38;5;28mself\u001b[39m\u001b[38;5;241m.\u001b[39mrepo\u001b[38;5;241m.\u001b[39mmodel_version\n\u001b[1;32m     54\u001b[0m \u001b[38;5;28;01melse\u001b[39;00m:\n\u001b[1;32m     55\u001b[0m     (\n\u001b[1;32m     56\u001b[0m         \u001b[38;5;28mself\u001b[39m\u001b[38;5;241m.\u001b[39mmodel_name,\n\u001b[1;32m     57\u001b[0m         \u001b[38;5;28mself\u001b[39m\u001b[38;5;241m.\u001b[39mmodel_version,\n\u001b[1;32m     58\u001b[0m         underlying_uri,\n\u001b[0;32m---> 59\u001b[0m     ) \u001b[38;5;241m=\u001b[39m \u001b[43mModelsArtifactRepository\u001b[49m\u001b[38;5;241;43m.\u001b[39;49m\u001b[43m_get_model_uri_infos\u001b[49m\u001b[43m(\u001b[49m\u001b[43martifact_uri\u001b[49m\u001b[43m)\u001b[49m\n\u001b[1;32m     60\u001b[0m     \u001b[38;5;28mself\u001b[39m\u001b[38;5;241m.\u001b[39mrepo \u001b[38;5;241m=\u001b[39m get_artifact_repository(underlying_uri)\n",
      "File \u001b[0;32m~/anaconda3/lib/python3.9/site-packages/mlflow/store/artifact/models_artifact_repo.py:94\u001b[0m, in \u001b[0;36mModelsArtifactRepository._get_model_uri_infos\u001b[0;34m(uri)\u001b[0m\n\u001b[1;32m     92\u001b[0m client \u001b[38;5;241m=\u001b[39m MlflowClient(registry_uri\u001b[38;5;241m=\u001b[39mdatabricks_profile_uri)\n\u001b[1;32m     93\u001b[0m name, version \u001b[38;5;241m=\u001b[39m get_model_name_and_version(client, uri)\n\u001b[0;32m---> 94\u001b[0m download_uri \u001b[38;5;241m=\u001b[39m \u001b[43mclient\u001b[49m\u001b[38;5;241;43m.\u001b[39;49m\u001b[43mget_model_version_download_uri\u001b[49m\u001b[43m(\u001b[49m\u001b[43mname\u001b[49m\u001b[43m,\u001b[49m\u001b[43m \u001b[49m\u001b[43mversion\u001b[49m\u001b[43m)\u001b[49m\n\u001b[1;32m     96\u001b[0m \u001b[38;5;28;01mreturn\u001b[39;00m (\n\u001b[1;32m     97\u001b[0m     name,\n\u001b[1;32m     98\u001b[0m     version,\n\u001b[1;32m     99\u001b[0m     add_databricks_profile_info_to_artifact_uri(download_uri, databricks_profile_uri),\n\u001b[1;32m    100\u001b[0m )\n",
      "File \u001b[0;32m~/anaconda3/lib/python3.9/site-packages/mlflow/tracking/client.py:4144\u001b[0m, in \u001b[0;36mMlflowClient.get_model_version_download_uri\u001b[0;34m(self, name, version)\u001b[0m\n\u001b[1;32m   4099\u001b[0m \u001b[38;5;28;01mdef\u001b[39;00m \u001b[38;5;21mget_model_version_download_uri\u001b[39m(\u001b[38;5;28mself\u001b[39m, name: \u001b[38;5;28mstr\u001b[39m, version: \u001b[38;5;28mstr\u001b[39m) \u001b[38;5;241m-\u001b[39m\u001b[38;5;241m>\u001b[39m \u001b[38;5;28mstr\u001b[39m:\n\u001b[1;32m   4100\u001b[0m     \u001b[38;5;124;03m\"\"\"\u001b[39;00m\n\u001b[1;32m   4101\u001b[0m \u001b[38;5;124;03m    Get the download location in Model Registry for this model version.\u001b[39;00m\n\u001b[1;32m   4102\u001b[0m \n\u001b[0;32m   (...)\u001b[0m\n\u001b[1;32m   4142\u001b[0m \u001b[38;5;124;03m        Download URI: runs:/027d7bbe81924c5a82b3e4ce979fcab7/sklearn-model\u001b[39;00m\n\u001b[1;32m   4143\u001b[0m \u001b[38;5;124;03m    \"\"\"\u001b[39;00m\n\u001b[0;32m-> 4144\u001b[0m     \u001b[38;5;28;01mreturn\u001b[39;00m \u001b[38;5;28;43mself\u001b[39;49m\u001b[38;5;241;43m.\u001b[39;49m\u001b[43m_get_registry_client\u001b[49m\u001b[43m(\u001b[49m\u001b[43m)\u001b[49m\u001b[38;5;241;43m.\u001b[39;49m\u001b[43mget_model_version_download_uri\u001b[49m\u001b[43m(\u001b[49m\u001b[43mname\u001b[49m\u001b[43m,\u001b[49m\u001b[43m \u001b[49m\u001b[43mversion\u001b[49m\u001b[43m)\u001b[49m\n",
      "File \u001b[0;32m~/anaconda3/lib/python3.9/site-packages/mlflow/tracking/_model_registry/client.py:316\u001b[0m, in \u001b[0;36mModelRegistryClient.get_model_version_download_uri\u001b[0;34m(self, name, version)\u001b[0m\n\u001b[1;32m    305\u001b[0m \u001b[38;5;28;01mdef\u001b[39;00m \u001b[38;5;21mget_model_version_download_uri\u001b[39m(\u001b[38;5;28mself\u001b[39m, name, version):\n\u001b[1;32m    306\u001b[0m     \u001b[38;5;124;03m\"\"\"Get the download location in Model Registry for this model version.\u001b[39;00m\n\u001b[1;32m    307\u001b[0m \n\u001b[1;32m    308\u001b[0m \u001b[38;5;124;03m    Args:\u001b[39;00m\n\u001b[0;32m   (...)\u001b[0m\n\u001b[1;32m    314\u001b[0m \n\u001b[1;32m    315\u001b[0m \u001b[38;5;124;03m    \"\"\"\u001b[39;00m\n\u001b[0;32m--> 316\u001b[0m     \u001b[38;5;28;01mreturn\u001b[39;00m \u001b[38;5;28;43mself\u001b[39;49m\u001b[38;5;241;43m.\u001b[39;49m\u001b[43mstore\u001b[49m\u001b[38;5;241;43m.\u001b[39;49m\u001b[43mget_model_version_download_uri\u001b[49m\u001b[43m(\u001b[49m\u001b[43mname\u001b[49m\u001b[43m,\u001b[49m\u001b[43m \u001b[49m\u001b[43mversion\u001b[49m\u001b[43m)\u001b[49m\n",
      "File \u001b[0;32m~/anaconda3/lib/python3.9/site-packages/mlflow/store/model_registry/sqlalchemy_store.py:928\u001b[0m, in \u001b[0;36mSqlAlchemyStore.get_model_version_download_uri\u001b[0;34m(self, name, version)\u001b[0m\n\u001b[1;32m    915\u001b[0m \u001b[38;5;124;03m\"\"\"\u001b[39;00m\n\u001b[1;32m    916\u001b[0m \u001b[38;5;124;03mGet the download location in Model Registry for this model version.\u001b[39;00m\n\u001b[1;32m    917\u001b[0m \u001b[38;5;124;03mNOTE: For first version of Model Registry, since the models are not copied over to another\u001b[39;00m\n\u001b[0;32m   (...)\u001b[0m\n\u001b[1;32m    925\u001b[0m \u001b[38;5;124;03m    A single URI location that allows reads for downloading.\u001b[39;00m\n\u001b[1;32m    926\u001b[0m \u001b[38;5;124;03m\"\"\"\u001b[39;00m\n\u001b[1;32m    927\u001b[0m \u001b[38;5;28;01mwith\u001b[39;00m \u001b[38;5;28mself\u001b[39m\u001b[38;5;241m.\u001b[39mManagedSessionMaker() \u001b[38;5;28;01mas\u001b[39;00m session:\n\u001b[0;32m--> 928\u001b[0m     sql_model_version \u001b[38;5;241m=\u001b[39m \u001b[38;5;28;43mself\u001b[39;49m\u001b[38;5;241;43m.\u001b[39;49m\u001b[43m_get_sql_model_version\u001b[49m\u001b[43m(\u001b[49m\u001b[43msession\u001b[49m\u001b[43m,\u001b[49m\u001b[43m \u001b[49m\u001b[43mname\u001b[49m\u001b[43m,\u001b[49m\u001b[43m \u001b[49m\u001b[43mversion\u001b[49m\u001b[43m)\u001b[49m\n\u001b[1;32m    929\u001b[0m     \u001b[38;5;28;01mreturn\u001b[39;00m sql_model_version\u001b[38;5;241m.\u001b[39mstorage_location \u001b[38;5;129;01mor\u001b[39;00m sql_model_version\u001b[38;5;241m.\u001b[39msource\n",
      "File \u001b[0;32m~/anaconda3/lib/python3.9/site-packages/mlflow/store/model_registry/sqlalchemy_store.py:767\u001b[0m, in \u001b[0;36mSqlAlchemyStore._get_sql_model_version\u001b[0;34m(cls, session, name, version, eager)\u001b[0m\n\u001b[1;32m    761\u001b[0m query_options \u001b[38;5;241m=\u001b[39m \u001b[38;5;28mcls\u001b[39m\u001b[38;5;241m.\u001b[39m_get_eager_model_version_query_options() \u001b[38;5;28;01mif\u001b[39;00m eager \u001b[38;5;28;01melse\u001b[39;00m []\n\u001b[1;32m    762\u001b[0m conditions \u001b[38;5;241m=\u001b[39m [\n\u001b[1;32m    763\u001b[0m     SqlModelVersion\u001b[38;5;241m.\u001b[39mname \u001b[38;5;241m==\u001b[39m name,\n\u001b[1;32m    764\u001b[0m     SqlModelVersion\u001b[38;5;241m.\u001b[39mversion \u001b[38;5;241m==\u001b[39m version,\n\u001b[1;32m    765\u001b[0m     SqlModelVersion\u001b[38;5;241m.\u001b[39mcurrent_stage \u001b[38;5;241m!=\u001b[39m STAGE_DELETED_INTERNAL,\n\u001b[1;32m    766\u001b[0m ]\n\u001b[0;32m--> 767\u001b[0m \u001b[38;5;28;01mreturn\u001b[39;00m \u001b[38;5;28;43mcls\u001b[39;49m\u001b[38;5;241;43m.\u001b[39;49m\u001b[43m_get_model_version_from_db\u001b[49m\u001b[43m(\u001b[49m\u001b[43msession\u001b[49m\u001b[43m,\u001b[49m\u001b[43m \u001b[49m\u001b[43mname\u001b[49m\u001b[43m,\u001b[49m\u001b[43m \u001b[49m\u001b[43mversion\u001b[49m\u001b[43m,\u001b[49m\u001b[43m \u001b[49m\u001b[43mconditions\u001b[49m\u001b[43m,\u001b[49m\u001b[43m \u001b[49m\u001b[43mquery_options\u001b[49m\u001b[43m)\u001b[49m\n",
      "File \u001b[0;32m~/anaconda3/lib/python3.9/site-packages/mlflow/store/model_registry/sqlalchemy_store.py:738\u001b[0m, in \u001b[0;36mSqlAlchemyStore._get_model_version_from_db\u001b[0;34m(cls, session, name, version, conditions, query_options)\u001b[0m\n\u001b[1;32m    735\u001b[0m versions \u001b[38;5;241m=\u001b[39m session\u001b[38;5;241m.\u001b[39mquery(SqlModelVersion)\u001b[38;5;241m.\u001b[39moptions(\u001b[38;5;241m*\u001b[39mquery_options)\u001b[38;5;241m.\u001b[39mfilter(\u001b[38;5;241m*\u001b[39mconditions)\u001b[38;5;241m.\u001b[39mall()\n\u001b[1;32m    737\u001b[0m \u001b[38;5;28;01mif\u001b[39;00m \u001b[38;5;28mlen\u001b[39m(versions) \u001b[38;5;241m==\u001b[39m \u001b[38;5;241m0\u001b[39m:\n\u001b[0;32m--> 738\u001b[0m     \u001b[38;5;28;01mraise\u001b[39;00m MlflowException(\n\u001b[1;32m    739\u001b[0m         \u001b[38;5;124mf\u001b[39m\u001b[38;5;124m\"\u001b[39m\u001b[38;5;124mModel Version (name=\u001b[39m\u001b[38;5;132;01m{\u001b[39;00mname\u001b[38;5;132;01m}\u001b[39;00m\u001b[38;5;124m, version=\u001b[39m\u001b[38;5;132;01m{\u001b[39;00mversion\u001b[38;5;132;01m}\u001b[39;00m\u001b[38;5;124m) not found\u001b[39m\u001b[38;5;124m\"\u001b[39m,\n\u001b[1;32m    740\u001b[0m         RESOURCE_DOES_NOT_EXIST,\n\u001b[1;32m    741\u001b[0m     )\n\u001b[1;32m    742\u001b[0m \u001b[38;5;28;01mif\u001b[39;00m \u001b[38;5;28mlen\u001b[39m(versions) \u001b[38;5;241m>\u001b[39m \u001b[38;5;241m1\u001b[39m:\n\u001b[1;32m    743\u001b[0m     \u001b[38;5;28;01mraise\u001b[39;00m MlflowException(\n\u001b[1;32m    744\u001b[0m         \u001b[38;5;124mf\u001b[39m\u001b[38;5;124m\"\u001b[39m\u001b[38;5;124mExpected only 1 model version with (name=\u001b[39m\u001b[38;5;132;01m{\u001b[39;00mname\u001b[38;5;132;01m}\u001b[39;00m\u001b[38;5;124m, version=\u001b[39m\u001b[38;5;132;01m{\u001b[39;00mversion\u001b[38;5;132;01m}\u001b[39;00m\u001b[38;5;124m). \u001b[39m\u001b[38;5;124m\"\u001b[39m\n\u001b[1;32m    745\u001b[0m         \u001b[38;5;124mf\u001b[39m\u001b[38;5;124m\"\u001b[39m\u001b[38;5;124mFound \u001b[39m\u001b[38;5;132;01m{\u001b[39;00m\u001b[38;5;28mlen\u001b[39m(versions)\u001b[38;5;132;01m}\u001b[39;00m\u001b[38;5;124m.\u001b[39m\u001b[38;5;124m\"\u001b[39m,\n\u001b[1;32m    746\u001b[0m         INVALID_STATE,\n\u001b[1;32m    747\u001b[0m     )\n",
      "\u001b[0;31mMlflowException\u001b[0m: Model Version (name=nyc_taxi_duration_first_exp , version=2) not found"
     ]
    }
   ],
   "source": [
    "%time test_model(name= \"nyc_taxi_duration_first_exp \", Versions=2, X_test=X_test, y_test=y_test)"
   ]
  },
  {
   "cell_type": "code",
   "execution_count": null,
   "id": "0edb6e93-07fb-4482-bf76-d6ae4cdf1a2f",
   "metadata": {},
   "outputs": [],
   "source": []
  }
 ],
 "metadata": {
  "kernelspec": {
   "display_name": "Python 3 (ipykernel)",
   "language": "python",
   "name": "python3"
  },
  "language_info": {
   "codemirror_mode": {
    "name": "ipython",
    "version": 3
   },
   "file_extension": ".py",
   "mimetype": "text/x-python",
   "name": "python",
   "nbconvert_exporter": "python",
   "pygments_lexer": "ipython3",
   "version": "3.9.12"
  }
 },
 "nbformat": 4,
 "nbformat_minor": 5
}
