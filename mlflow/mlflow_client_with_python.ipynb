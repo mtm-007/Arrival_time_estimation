{
 "cells": [
  {
   "cell_type": "code",
   "execution_count": 1,
   "id": "5125f642-6cc3-47b5-8462-6042e2fe3d9f",
   "metadata": {},
   "outputs": [],
   "source": [
    "import mlflow\n",
    "from mlflow.tracking import MlflowClient\n",
    "\n",
    "mlflow_tracking_uri = \"sqlite:///mlflow.db\"\n",
    "client = MlflowClient(tracking_uri=mlflow_tracking_uri)"
   ]
  },
  {
   "cell_type": "code",
   "execution_count": 39,
   "id": "ecd3d432-41fc-4e6e-8bc3-90734f67c549",
   "metadata": {},
   "outputs": [],
   "source": [
    "from sklearn.metrics import mean_squared_error\n",
    "import pandas as pd\n",
    "\n",
    "def read_DataFrame(filename):\n",
    "    df = pd.read_parquet(filename)\n",
    "    \n",
    "    df.lpep_pickup_datetime = pd.to_datetime(df.lpep_pickup_datetime)\n",
    "    df.lpep_dropoff_datetime = pd.to_datetime(df.lpep_dropoff_datetime)\n",
    "    \n",
    "    df['duration'] = df.lpep_dropoff_datetime - df.lpep_pickup_datetime\n",
    "    \n",
    "    df['duration'] = df['duration'].apply(lambda td: td.total_seconds()/60)\n",
    "    df['PU_DO'] = df['PULocationID'].astype(str) + '_' + df['DOLocationID'].astype(str)\n",
    "    \n",
    "    \n",
    "    categorical = ['PULocationID','DOLocationID']\n",
    "    numerical = ['trip_distance']\n",
    "    \n",
    "    df[categorical]= df[categorical].astype(str)\n",
    "    df = df[(df.duration > 1) & (df.duration <=60)]\n",
    "    return df\n",
    "\n",
    "def preprocessing_data(df, dv):\n",
    "    #dv = DictVectorizer()\n",
    "    \n",
    "    df['PU_DO'] = df['PULocationID'].astype(str) + '_' + df['DOLocationID'].astype(str)\n",
    "    categorical = ['PU_DO']\n",
    "    numerical = ['trip_distance']\n",
    "\n",
    "    train_dict = df[categorical + numerical].to_dict(orient='records')\n",
    "    return dv.transform(train_dict)\n",
    "\n",
    "\n",
    "def test_model(name, stage, X_test, y_test):\n",
    "    model = mlflow.pyfunc.load_model(f\"models:/{name}/{stage}\")\n",
    "    y_pred = model.predict(X_test)\n",
    "    return {\"rmse\": mean_squared_error(y_test, y_pred, squared=False)}\n",
    "\n",
    "def test_model_dt(name, stage, X_test, y_test):\n",
    "    model = mlflow.pyfunc.load_model(f\"models:/{name}/{stage}\")\n",
    "    y_pred = model.predict(X_test)\n",
    "    return {\"rmse\": mean_squared_error(y_test, y_pred, squared=False)}\n"
   ]
  },
  {
   "cell_type": "code",
   "execution_count": 3,
   "id": "38b0863a-bfca-4c11-8535-8cc932e2aec5",
   "metadata": {},
   "outputs": [],
   "source": [
    "df = read_DataFrame(\"../data/green_tripdata_2023-03.parquet\")"
   ]
  },
  {
   "cell_type": "code",
   "execution_count": 4,
   "id": "eb7050d8-fcf4-4899-b803-4739cb59fb71",
   "metadata": {},
   "outputs": [],
   "source": [
    "import pickle\n",
    "\n",
    "with open(\"models/preprocessor.b\", 'rb') as f_in:\n",
    "    dv= pickle.load(f_in)"
   ]
  },
  {
   "cell_type": "code",
   "execution_count": 5,
   "id": "100fea1c-3cc9-4b41-a22c-a62f0ecd4bae",
   "metadata": {},
   "outputs": [],
   "source": [
    "X_test = preprocessing_data(df, dv)"
   ]
  },
  {
   "cell_type": "code",
   "execution_count": 6,
   "id": "f4b9f372-7f37-4601-b8fb-db955fe2cf03",
   "metadata": {},
   "outputs": [],
   "source": [
    "target = 'duration'\n",
    "y_test = df[target].values"
   ]
  },
  {
   "cell_type": "code",
   "execution_count": null,
   "id": "2a6e94ad-319e-4d77-8ea6-1207c336030d",
   "metadata": {},
   "outputs": [],
   "source": [
    "import mlflow.pyfunc\n",
    "\n",
    "model_name = \"Nyc_taxi_Arrival\"\n",
    "#model_name = \"sk-learn-random-forest-reg-model\"\n",
    "alias = \"challenger\"\n",
    "\n",
    "champion_version = mlflow.pyfunc.load_model(f\"models:/{model_name}@{alias}\")"
   ]
  },
  {
   "cell_type": "code",
   "execution_count": null,
   "id": "b99216ee-4273-418b-bcca-124abae2e014",
   "metadata": {},
   "outputs": [],
   "source": [
    "%time test_model_dt(name= \"nyc_taxi_duration_first_exp \", stage=\"Production\", X_test=X_test, y_test=y_test)"
   ]
  },
  {
   "cell_type": "code",
   "execution_count": 11,
   "id": "76e8670d-fb1c-416b-af22-dfd68d359c4b",
   "metadata": {},
   "outputs": [
    {
     "name": "stdout",
     "output_type": "stream",
     "text": [
      "version: 4, stage:Staging, model_name:Nyc_taxi_Arrival\n",
      "version: 2, stage:Production, model_name:Nyc_taxi_Arrival\n"
     ]
    },
    {
     "name": "stderr",
     "output_type": "stream",
     "text": [
      "/tmp/ipykernel_5347/1551853368.py:2: FutureWarning: ``mlflow.tracking.client.MlflowClient.get_latest_versions`` is deprecated since 2.9.0. Model registry stages will be removed in a future major release. To learn more about the deprecation of model registry stages, see our migration guide here: https://mlflow.org/docs/latest/model-registry.html#migrating-from-stages\n",
      "  latest_verions = client.get_latest_versions(name=model_name)\n"
     ]
    }
   ],
   "source": [
    "model_name = \"Nyc_taxi_Arrival\"\n",
    "latest_verions = client.get_latest_versions(name=model_name)\n",
    "\n",
    "for version in latest_verions:\n",
    "    print(f\"version: {version.version}, stage:{version.current_stage}, model_name:{version.name}\")"
   ]
  },
  {
   "cell_type": "code",
   "execution_count": null,
   "id": "c29bfc87-02a4-4952-b159-a8737a11eb7e",
   "metadata": {},
   "outputs": [],
   "source": []
  }
 ],
 "metadata": {
  "kernelspec": {
   "display_name": "Python 3 (ipykernel)",
   "language": "python",
   "name": "python3"
  },
  "language_info": {
   "codemirror_mode": {
    "name": "ipython",
    "version": 3
   },
   "file_extension": ".py",
   "mimetype": "text/x-python",
   "name": "python",
   "nbconvert_exporter": "python",
   "pygments_lexer": "ipython3",
   "version": "3.12.1"
  }
 },
 "nbformat": 4,
 "nbformat_minor": 5
}
