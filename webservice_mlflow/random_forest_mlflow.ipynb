{
 "cells": [
  {
   "cell_type": "code",
   "execution_count": 11,
   "id": "23d57226-74d3-4e33-8de9-b3c9833fa718",
   "metadata": {},
   "outputs": [],
   "source": [
    "import pandas as pd\n",
    "import numpy as np\n",
    "import pickle\n",
    "import pyarrow\n",
    "\n",
    "from sklearn.feature_extraction import DictVectorizer\n",
    "from sklearn.ensemble import RandomForestRegressor\n",
    "from sklearn.metrics import mean_squared_error\n",
    "from sklearn.metrics import root_mean_squared_error"
   ]
  },
  {
   "cell_type": "code",
   "execution_count": 12,
   "id": "9ccf5b6a-e8f0-46de-a43d-2bc6a1cd10bd",
   "metadata": {},
   "outputs": [
    {
     "data": {
      "text/plain": [
       "<Experiment: artifact_location='gs://mlflow-backend-storage-models/1', creation_time=1728422822438, experiment_id='1', last_update_time=1728422822438, lifecycle_stage='active', name='green_taxi_model_new', tags={}>"
      ]
     },
     "execution_count": 12,
     "metadata": {},
     "output_type": "execute_result"
    }
   ],
   "source": [
    "import mlflow\n",
    "\n",
    "mlflow.set_tracking_uri(\"http://127.0.0.1:5000\")\n",
    "mlflow.set_experiment(\"green_taxi_model_new\")"
   ]
  },
  {
   "cell_type": "code",
   "execution_count": 13,
   "id": "47be810c-55a9-4bf4-ac8c-1e4af6d17717",
   "metadata": {},
   "outputs": [],
   "source": [
    "import mlflow\n",
    "import os\n",
    "from google.oauth2 import service_account\n",
    "\n",
    "# Set up credentials with proper scopes\n",
    "credentials = service_account.Credentials.from_service_account_file(\n",
    "    '/home/MERHAWI/arrival_time/Arrival_time_estimation/mlflow_cld/my_gcp_k.json',\n",
    "    scopes=['https://www.googleapis.com/auth/cloud-platform']\n",
    ")\n",
    "\n",
    "# Configure MLflow\n",
    "mlflow.set_tracking_uri(\"http://127.0.0.1:5000\")\n",
    "os.environ['GOOGLE_APPLICATION_CREDENTIALS'] = '/home/MERHAWI/arrival_time/Arrival_time_estimation/mlflow_cld/my_gcp_k.json'"
   ]
  },
  {
   "cell_type": "code",
   "execution_count": 14,
   "id": "457ff65d-817e-4aef-b408-ec801ecdf3ce",
   "metadata": {},
   "outputs": [],
   "source": [
    "def read_dataframe(filename:str):\n",
    "    df = pd.read_parquet(filename)\n",
    "    \n",
    "    df['duration'] = df.lpep_dropoff_datetime - df.lpep_pickup_datetime\n",
    "    \n",
    "    df['duration'] = df['duration'].apply(lambda td: td.total_seconds()/60)\n",
    "    df = df[(df.duration > 1) & (df.duration <=60)]\n",
    "\n",
    "    categorical = ['PULocationID','DOLocationID']\n",
    "    df[categorical]= df[categorical].astype(str)\n",
    "    return df\n",
    "\n",
    "def prepare_dictionaries(df: pd.DataFrame):    \n",
    "    df['PU_DO'] = df['PULocationID'].astype(str) + '_' + df['DOLocationID'].astype(str)\n",
    "    categorical = ['PU_DO']\n",
    "    numerical = ['trip_distance']\n",
    "    dicts = df[categorical + numerical].to_dict(orient='records')\n",
    "    return dicts"
   ]
  },
  {
   "cell_type": "code",
   "execution_count": 15,
   "id": "c8ea733b-c02d-47d9-b0ed-90edf123295d",
   "metadata": {},
   "outputs": [],
   "source": [
    "df_train = read_dataframe('../data/green_tripdata_2023-01.parquet')\n",
    "df_valid = read_dataframe('../data/green_tripdata_2023-02.parquet')\n",
    "\n",
    "target = 'duration'\n",
    "y_train = df_train[target].values\n",
    "y_valid = df_valid[target].values\n",
    "\n",
    "dict_train = prepare_dictionaries(df_train)\n",
    "dict_val = prepare_dictionaries(df_valid)"
   ]
  },
  {
   "cell_type": "code",
   "execution_count": 16,
   "id": "f3a2d035-2dd7-4725-a6cc-1a44e475d363",
   "metadata": {},
   "outputs": [],
   "source": [
    "# from test_gcp_access import setup_mlflow_with_gcs, log_artifact_example\n",
    "\n",
    "# # Setup MLflow\n",
    "# experiment_id = setup_mlflow_with_gcs()\n",
    "\n",
    "# # Log your artifact\n",
    "# log_artifact_example(\"test.txt\", \"my_artifacts\")\n",
    "\n",
    "# import mlflow\n",
    "\n",
    "# mlflow.set_tracking_uri(\"http://127.0.0.1:5000\")\n",
    "# mlflow.set_experiment(\"green_taxi_model_new\")\n",
    "\n",
    "# with mlflow.start_run():\n",
    "#     # Just provide the local file path and optional subfolder\n",
    "#     mlflow.log_artifact(\"test.txt\", \"my_folder\")  # Don't include gs:// here"
   ]
  },
  {
   "cell_type": "code",
   "execution_count": 17,
   "id": "da8abed7-5d87-46ef-9cb1-12389d6d9b69",
   "metadata": {},
   "outputs": [],
   "source": [
    "# mlflow.set_tracking_uri(\"http://127.0.0.1:5000\")\n",
    "# mlflow.set_experiment(\"green_taxi_model_new\")\n",
    "# mlflow.log_artifact(\"test.txt\", artifact_path=\"gs://mlflow-backend-storage-models\")\n"
   ]
  },
  {
   "cell_type": "code",
   "execution_count": 19,
   "id": "7bb2fb21-01e7-4c30-bf62-5852c842bf82",
   "metadata": {},
   "outputs": [
    {
     "name": "stdout",
     "output_type": "stream",
     "text": [
      "{'max_depth': 20, 'n_estimators': 100, 'min_samples_leaf': 10, 'random_state': 0} 5.396698280020155\n"
     ]
    },
    {
     "name": "stderr",
     "output_type": "stream",
     "text": [
      "2024/10/08 21:46:10 WARNING mlflow.models.model: Model logged without a signature and input example. Please set `input_example` parameter when logging the model to auto infer the model signature.\n",
      "2024/10/08 21:46:12 INFO mlflow.tracking._tracking_service.client: 🏃 View run nebulous-gull-820 at: http://127.0.0.1:5000/#/experiments/1/runs/ba222bda45b94132b337915e4fa8226d.\n",
      "2024/10/08 21:46:12 INFO mlflow.tracking._tracking_service.client: 🧪 View experiment at: http://127.0.0.1:5000/#/experiments/1.\n"
     ]
    }
   ],
   "source": [
    "with mlflow.start_run():\n",
    "    params = dict(max_depth=20, n_estimators=100, min_samples_leaf=10, random_state=0)\n",
    "    mlflow.log_params(params)\n",
    "\n",
    "    dv = DictVectorizer()\n",
    "    model = RandomForestRegressor(**params, n_jobs= -1)\n",
    "    \n",
    "    X_train = dv.fit_transform(dict_train)\n",
    "    model.fit(X_train, y_train)\n",
    "    \n",
    "    X_val = dv.transform(dict_val)\n",
    "    y_pred = model.predict(X_val)\n",
    "\n",
    "    rmse = root_mean_squared_error(y_pred, y_valid)\n",
    "    print(params, rmse)\n",
    "    mlflow.log_metric('rmse', rmse)\n",
    "\n",
    "    mlflow.sklearn.log_model(model, artifact_path=\"model\")\n",
    "\n",
    "    with open('dict_vectorizer.bin', 'wb') as f_out:\n",
    "        pickle.dump(dv, f_out)\n",
    "\n",
    "    mlflow.log_artifact('dict_vectorizer.bin')\n",
    "    "
   ]
  },
  {
   "cell_type": "code",
   "execution_count": null,
   "id": "3bd16d06-8e0b-4d7d-96f2-fcbd12502cae",
   "metadata": {},
   "outputs": [],
   "source": []
  }
 ],
 "metadata": {
  "kernelspec": {
   "display_name": "Python 3 (ipykernel)",
   "language": "python",
   "name": "python3"
  },
  "language_info": {
   "codemirror_mode": {
    "name": "ipython",
    "version": 3
   },
   "file_extension": ".py",
   "mimetype": "text/x-python",
   "name": "python",
   "nbconvert_exporter": "python",
   "pygments_lexer": "ipython3",
   "version": "3.12.2"
  }
 },
 "nbformat": 4,
 "nbformat_minor": 5
}
